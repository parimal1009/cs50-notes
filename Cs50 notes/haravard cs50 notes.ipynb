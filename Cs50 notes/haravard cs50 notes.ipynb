{
 "cells": [
  {
   "cell_type": "code",
   "execution_count": 1,
   "metadata": {},
   "outputs": [
    {
     "name": "stdout",
     "output_type": "stream",
     "text": [
      "x is equal to y\n"
     ]
    }
   ],
   "source": [
    "x= int(input(\"what is x:\"))\n",
    "y=int(input(\"what is y:\"))\n",
    "\n",
    "if x<y or x>y:\n",
    "  print(\"x is not equal to y\")\n",
    "else:\n",
    "  print(\"x is equal to y\")"
   ]
  },
  {
   "cell_type": "code",
   "execution_count": 2,
   "metadata": {},
   "outputs": [
    {
     "name": "stdout",
     "output_type": "stream",
     "text": [
      "hello, Pariaml\n"
     ]
    }
   ],
   "source": [
    "name = input(\"what is your name: \").strip().title()\n",
    "name=name.strip().title()#remove white space title all the words first letter are capitalize\n",
    "name=name.capitalize()#capitalize the first letter\n",
    "print(f\"hello, {name}\")#f for {name} is input"
   ]
  },
  {
   "cell_type": "code",
   "execution_count": 3,
   "metadata": {},
   "outputs": [
    {
     "name": "stdout",
     "output_type": "stream",
     "text": [
      "3\n"
     ]
    }
   ],
   "source": [
    "x=1\n",
    "y=2\n",
    "\n",
    "z=x+y\n",
    "\n",
    "print(z)\n"
   ]
  },
  {
   "cell_type": "code",
   "execution_count": 4,
   "metadata": {},
   "outputs": [
    {
     "name": "stdout",
     "output_type": "stream",
     "text": [
      "3\n",
      "0.50\n"
     ]
    }
   ],
   "source": [
    "x=float(input(\"enter the no.\"))\n",
    "y=float(input(\"enter the second number\"))\n",
    "\n",
    "z= round(x+y)\n",
    "k=round(x/y,2)#only upto 2 characters required\n",
    "print(f\"{z:,}\")\n",
    "print(f\"{k:.2f}\")"
   ]
  },
  {
   "cell_type": "code",
   "execution_count": 6,
   "metadata": {},
   "outputs": [
    {
     "name": "stdout",
     "output_type": "stream",
     "text": [
      "parimaL\n",
      "hello ,parimaL\n"
     ]
    }
   ],
   "source": [
    "def hello():\n",
    "    print(\"hello\")\n",
    "    name = input(\"What is your name? \")\n",
    "    print(name)\n",
    "\n",
    "# Call the function to execute its code\n",
    "hello()\n"
   ]
  },
  {
   "cell_type": "code",
   "execution_count": 6,
   "metadata": {},
   "outputs": [
    {
     "name": "stdout",
     "output_type": "stream",
     "text": [
      "hello\n",
      "parimal\n"
     ]
    }
   ],
   "source": [
    "def hello():\n",
    "    print(\"hello\")\n",
    "    name = input(\"What is your name? \")\n",
    "    print(name)\n",
    "\n",
    "# Call the function to execute its code\n",
    "hello()\n"
   ]
  },
  {
   "cell_type": "code",
   "execution_count": 7,
   "metadata": {},
   "outputs": [
    {
     "name": "stdout",
     "output_type": "stream",
     "text": [
      "x squared is 529\n"
     ]
    }
   ],
   "source": [
    "def square(n):\n",
    "    return pow(n,2)\n",
    "\n",
    "def main():\n",
    "    x = int(input(\"What is x? \"))\n",
    "    print(\"x squared is\", square(x))\n",
    "\n",
    "# Call the main function to start the program\n",
    "main()\n"
   ]
  },
  {
   "cell_type": "code",
   "execution_count": 8,
   "metadata": {},
   "outputs": [
    {
     "name": "stdout",
     "output_type": "stream",
     "text": [
      "y is less than x\n"
     ]
    }
   ],
   "source": [
    "x= int(input(\"what is x:\"))\n",
    "y=int(input(\"what is y:\"))\n",
    "\n",
    "if x<y:\n",
    "  print(\"x is less than y\")\n",
    "elif x==y:\n",
    "  print(\"x and y both are equal\")\n",
    "else:\n",
    "  print(\"y is less than x\")"
   ]
  },
  {
   "cell_type": "code",
   "execution_count": 9,
   "metadata": {},
   "outputs": [
    {
     "name": "stdout",
     "output_type": "stream",
     "text": [
      "x is not equal to y\n"
     ]
    }
   ],
   "source": [
    "x= int(input(\"what is x:\"))\n",
    "y=int(input(\"what is y:\"))\n",
    "\n",
    "if x<y or x>y:\n",
    "  print(\"x is not equal to y\")\n",
    "else:\n",
    "  print(\"x is equal to y\")"
   ]
  },
  {
   "cell_type": "code",
   "execution_count": 7,
   "metadata": {},
   "outputs": [
    {
     "name": "stdout",
     "output_type": "stream",
     "text": [
      "x is not equal to y\n"
     ]
    }
   ],
   "source": [
    "x= int(input(\"what is x:\"))\n",
    "y=int(input(\"what is y:\"))\n",
    "\n",
    "if x!=y:\n",
    "    print(\"x is not equal to y\")\n",
    "else:\n",
    "    print(\"x is equal to y\")"
   ]
  },
  {
   "cell_type": "code",
   "execution_count": 10,
   "metadata": {},
   "outputs": [
    {
     "name": "stdout",
     "output_type": "stream",
     "text": [
      "grade f\n"
     ]
    }
   ],
   "source": [
    "score = int(input(\"score\"))\n",
    "\n",
    "if score>=90 and score<=100:\n",
    "    print(\"grade a\")\n",
    "\n",
    "elif  score>=80 and score<=90:\n",
    "    print(\"grade b\")\n",
    "\n",
    "elif score>=60:\n",
    "    print(\"grade d\")\n",
    "\n",
    "else:\n",
    "    print(\"grade f\")\n",
    "\n",
    "\n"
   ]
  },
  {
   "cell_type": "code",
   "execution_count": null,
   "metadata": {},
   "outputs": [],
   "source": [
    "x=int (input(\"what is x:\"))\n",
    "\n",
    "if x%2==0:\n",
    "    print(\"even\")\n",
    "else:\n",
    "    print(\"odd\")\n",
    "    \n",
    "\n",
    "\n"
   ]
  },
  {
   "cell_type": "code",
   "execution_count": 13,
   "metadata": {},
   "outputs": [
    {
     "name": "stdout",
     "output_type": "stream",
     "text": [
      "Odd\n"
     ]
    }
   ],
   "source": [
    "def is_even(x):\n",
    "    if x % 2 == 0:\n",
    "        return True\n",
    "    else:\n",
    "        return False\n",
    "    #return true if x%2==0 else false\n",
    "    #return x%2==0\n",
    "\n",
    "def main():\n",
    "    x = int(input(\"Enter a number: \"))\n",
    "    if is_even(x):\n",
    "        print(\"Even\")\n",
    "    else:\n",
    "        print(\"Odd\")\n",
    "\n",
    "main()\n"
   ]
  },
  {
   "cell_type": "code",
   "execution_count": 14,
   "metadata": {},
   "outputs": [
    {
     "name": "stdout",
     "output_type": "stream",
     "text": [
      "gryffindor\n"
     ]
    }
   ],
   "source": [
    "name=input(\"whats your name\")\n",
    "\n",
    "if name==\"harry\" or name==\"hermoine\":\n",
    "    print(\"gryffindor\")\n",
    "elif name==\"draco\":\n",
    "    print(\"slytherin\")\n",
    "else:\n",
    "    print(\"who?\")"
   ]
  },
  {
   "cell_type": "code",
   "execution_count": 16,
   "metadata": {},
   "outputs": [
    {
     "name": "stdout",
     "output_type": "stream",
     "text": [
      "gryffindor\n"
     ]
    }
   ],
   "source": [
    "name=input(\"what is your name\")\n",
    "\n",
    "match name:\n",
    "    case \"harry\"|\"hermoine\"|\"ron\":\n",
    "        print(\"gryffindor\")\n",
    "    case \"draco\":\n",
    "        print(\"SLYTHERIN\")\n",
    "    case _:\n",
    "        print(\"who?\")"
   ]
  },
  {
   "cell_type": "code",
   "execution_count": 4,
   "metadata": {},
   "outputs": [
    {
     "name": "stdout",
     "output_type": "stream",
     "text": [
      "meow\n",
      "meow\n",
      "meow\n",
      "there are 3 no. of meow\n"
     ]
    }
   ],
   "source": [
    "def meow(n):\n",
    "    for i in range(n):\n",
    "        print(\"meow\")\n",
    "\n",
    "def main():\n",
    "    n = int(input())\n",
    "    meow(n)\n",
    "    print(f\"there are {n} no. of meow\")\n",
    "\n",
    "if __name__ == \"__main__\":\n",
    "    main()\n"
   ]
  },
  {
   "cell_type": "code",
   "execution_count": 1,
   "metadata": {},
   "outputs": [
    {
     "name": "stdout",
     "output_type": "stream",
     "text": [
      "meow\n",
      "meow\n",
      "meow\n"
     ]
    }
   ],
   "source": [
    "i=3\n",
    "while i!=0:\n",
    "    print(\"meow\")\n",
    "    i=i-1"
   ]
  },
  {
   "cell_type": "code",
   "execution_count": 3,
   "metadata": {},
   "outputs": [
    {
     "name": "stdout",
     "output_type": "stream",
     "text": [
      "meow\n",
      "meow\n",
      "meow\n"
     ]
    }
   ],
   "source": [
    "i=1\n",
    "while i<=3:\n",
    "    print(\"meow\")\n",
    "    i+=1\n"
   ]
  },
  {
   "cell_type": "code",
   "execution_count": 4,
   "metadata": {},
   "outputs": [
    {
     "name": "stdout",
     "output_type": "stream",
     "text": [
      "meow\n",
      "meow\n",
      "meow\n"
     ]
    }
   ],
   "source": [
    "for i in [0,1,2]:\n",
    "    print(\"meow\")"
   ]
  },
  {
   "cell_type": "code",
   "execution_count": 5,
   "metadata": {},
   "outputs": [
    {
     "name": "stdout",
     "output_type": "stream",
     "text": [
      "meow\n",
      "meow\n",
      "meow\n"
     ]
    }
   ],
   "source": [
    "for i in range (3):\n",
    "    print(\"meow\")"
   ]
  },
  {
   "cell_type": "code",
   "execution_count": 8,
   "metadata": {},
   "outputs": [
    {
     "name": "stdout",
     "output_type": "stream",
     "text": [
      "meow\n",
      "meow\n",
      "meow\n"
     ]
    }
   ],
   "source": [
    "print(\"meow\\n\"*3,end=\"\")"
   ]
  },
  {
   "cell_type": "code",
   "execution_count": 11,
   "metadata": {},
   "outputs": [
    {
     "name": "stdout",
     "output_type": "stream",
     "text": [
      "meow\n",
      "meow\n",
      "meow\n",
      "meow\n",
      "meow\n",
      "meow\n",
      "meow\n",
      "meow\n",
      "meow\n",
      "meow\n"
     ]
    }
   ],
   "source": [
    "while True:\n",
    "    n=int(input(\"what is n: \"))\n",
    "    if n>0:\n",
    "        break\n",
    "for _ in range(n):\n",
    "    print(\"meow\")"
   ]
  },
  {
   "cell_type": "code",
   "execution_count": 18,
   "metadata": {},
   "outputs": [
    {
     "name": "stdout",
     "output_type": "stream",
     "text": [
      "meow\n",
      "meow\n",
      "meow\n"
     ]
    }
   ],
   "source": [
    "def meow(n):\n",
    "    for _ in range(n):\n",
    "        print('meow')\n",
    "\n",
    "def main():\n",
    "    meow(3)\n",
    "\n",
    "main()"
   ]
  },
  {
   "cell_type": "code",
   "execution_count": 24,
   "metadata": {},
   "outputs": [
    {
     "name": "stdout",
     "output_type": "stream",
     "text": [
      "meow\n",
      "meow\n",
      "meow\n"
     ]
    }
   ],
   "source": [
    "def main():\n",
    "    number=get_number()\n",
    "    meow(3)\n",
    "\n",
    "def get_number():\n",
    "    while True:\n",
    "        n=int(input(\"what is n\"))\n",
    "        if n>0:\n",
    "            break\n",
    "        return n\n",
    "    \n",
    "\n",
    "def meow(n):\n",
    "    for _ in range(n):\n",
    "        print(\"meow\")\n",
    "\n",
    "main()\n"
   ]
  },
  {
   "cell_type": "code",
   "execution_count": 26,
   "metadata": {},
   "outputs": [
    {
     "name": "stdout",
     "output_type": "stream",
     "text": [
      "hermoine\n",
      "harry\n",
      "ron\n"
     ]
    }
   ],
   "source": [
    "students=[\"hermoine\",\"harry\",\"ron\"]\n",
    "\n",
    "print(students[0])\n",
    "print(students[1])\n",
    "print(students[2])\n"
   ]
  },
  {
   "cell_type": "code",
   "execution_count": 13,
   "metadata": {},
   "outputs": [
    {
     "name": "stdout",
     "output_type": "stream",
     "text": [
      "hermoine\n",
      "harry\n",
      "ron\n",
      "1 hermoine\n",
      "2 harry\n",
      "3 ron\n"
     ]
    }
   ],
   "source": [
    "students=[\"hermoine\",\"harry\",\"ron\"]\n",
    "\n",
    "for student in students:\n",
    "    print(student)\n",
    "    \n",
    "for student in range (len(students)):\n",
    "    print(student+1,students[student])"
   ]
  },
  {
   "cell_type": "code",
   "execution_count": 27,
   "metadata": {},
   "outputs": [
    {
     "name": "stdout",
     "output_type": "stream",
     "text": [
      "hermoine\n",
      "harry\n",
      "ron\n"
     ]
    }
   ],
   "source": [
    "students=[\"hermoine\",\"harry\",\"ron\"]\n",
    "\n",
    "for student in students:\n",
    "    print(student)"
   ]
  },
  {
   "cell_type": "code",
   "execution_count": 29,
   "metadata": {},
   "outputs": [
    {
     "name": "stdout",
     "output_type": "stream",
     "text": [
      "1 hermoine\n",
      "2 harry\n",
      "3 ron\n"
     ]
    }
   ],
   "source": [
    "students=[\"hermoine\",\"harry\",\"ron\"]\n",
    "\n",
    "for i in range (len(students)):\n",
    "    print(i+1,students[i])\n"
   ]
  },
  {
   "cell_type": "code",
   "execution_count": 2,
   "metadata": {},
   "outputs": [
    {
     "name": "stdout",
     "output_type": "stream",
     "text": [
      "gryffindor\n",
      "hermoine,gryffindor\n",
      "harry,gryffindor\n",
      "ron,gryffindor\n",
      "draco,slytherin\n"
     ]
    }
   ],
   "source": [
    "#dictionary\n",
    "students={\"hermoine\":\"gryffindor\",\n",
    "          \"harry\":\"gryffindor\",\n",
    "          \"ron\":\"gryffindor\",\n",
    "          \"draco\":\"slytherin\"\n",
    "\n",
    "          }\n",
    "print(students[\"hermoine\"])\n",
    "\n",
    "for student in students:\n",
    "    print(student,students[student],sep=\",\")"
   ]
  },
  {
   "cell_type": "code",
   "execution_count": 5,
   "metadata": {},
   "outputs": [
    {
     "name": "stdout",
     "output_type": "stream",
     "text": [
      "hermoine,gryffindor,otter\n",
      "harry,gryffindor,otter\n",
      "ron,gryffindor,otter\n",
      "draco,slytherin,None\n"
     ]
    }
   ],
   "source": [
    "students = [\n",
    "    {\"name\": \"hermoine\", \"house\": \"gryffindor\", \"patronous\": \"otter\"},\n",
    "    {\"name\": \"harry\", \"house\": \"gryffindor\", \"patronous\": \"otter\"},\n",
    "    {\"name\": \"ron\", \"house\": \"gryffindor\", \"patronous\": \"otter\"},\n",
    "    {\"name\": \"draco\", \"house\": \"slytherin\", \"patronous\": None}\n",
    "]\n",
    "\n",
    "for student in students:\n",
    "    print(student[\"name\"], student[\"house\"], student[\"patronous\"], sep=\",\")\n"
   ]
  },
  {
   "cell_type": "code",
   "execution_count": 7,
   "metadata": {},
   "outputs": [
    {
     "name": "stdout",
     "output_type": "stream",
     "text": [
      "#\n",
      "#\n",
      "#\n"
     ]
    }
   ],
   "source": [
    "for _ in range(3):\n",
    "    print(\"#\")"
   ]
  },
  {
   "cell_type": "code",
   "execution_count": null,
   "metadata": {},
   "outputs": [],
   "source": [
    "def main():\n",
    "    print_column(3)\n",
    "    \n",
    "\n",
    "def print_column(height):\n",
    "    for i in range(height):\n",
    "        print(\"#\")\n",
    "\n",
    "main()\n",
    "\n"
   ]
  },
  {
   "cell_type": "code",
   "execution_count": 11,
   "metadata": {},
   "outputs": [
    {
     "name": "stdout",
     "output_type": "stream",
     "text": [
      "????\n"
     ]
    }
   ],
   "source": [
    "def main():\n",
    "    print_row(4)\n",
    "\n",
    "def print_row(width):\n",
    "    print(\"?\"*width)\n",
    "\n",
    "main()"
   ]
  },
  {
   "cell_type": "code",
   "execution_count": 29,
   "metadata": {},
   "outputs": [
    {
     "name": "stdout",
     "output_type": "stream",
     "text": [
      "###\n",
      "###\n",
      "###\n"
     ]
    }
   ],
   "source": [
    "def print_square(size):\n",
    "    for i in range(size):\n",
    "        for j in range(size):\n",
    "            print(\"#\", end=\"\")\n",
    "        print()\n",
    "\n",
    "def main():\n",
    "    print_square(3)\n",
    "\n",
    "main()\n"
   ]
  },
  {
   "cell_type": "code",
   "execution_count": 30,
   "metadata": {},
   "outputs": [
    {
     "name": "stdout",
     "output_type": "stream",
     "text": [
      "###\n",
      "###\n",
      "###\n"
     ]
    }
   ],
   "source": [
    "def main():\n",
    "    print_square(3)\n",
    "\n",
    "def print_square(size):\n",
    "    for i in range(size):\n",
    "        print_row(size)\n",
    "\n",
    "def print_row(width):\n",
    "    print(\"#\"*width)\n",
    "\n",
    "main()\n",
    "\n",
    "#What is Abstraction in Python? Abstraction in python is defined as a process of handling complexity by hiding unnecessary information from the user. "
   ]
  },
  {
   "cell_type": "code",
   "execution_count": 2,
   "metadata": {},
   "outputs": [
    {
     "name": "stdout",
     "output_type": "stream",
     "text": [
      "x is not an integer\n"
     ]
    }
   ],
   "source": [
    "try:\n",
    "    x=int(input(\"what is x\"))\n",
    "    print(f\"x is {x}\")\n",
    "\n",
    "except ValueError:\n",
    "    print(\"x is not an integer\")"
   ]
  },
  {
   "cell_type": "code",
   "execution_count": 34,
   "metadata": {},
   "outputs": [
    {
     "name": "stdout",
     "output_type": "stream",
     "text": [
      "x is 5\n"
     ]
    }
   ],
   "source": [
    "try:\n",
    "    x=int(input(\"what is x\"))\n",
    "    \n",
    "\n",
    "except ValueError:\n",
    "    print(\"x is not an integer\")\n",
    "\n",
    "else:\n",
    "    print(f\"x is {x}\")"
   ]
  },
  {
   "cell_type": "code",
   "execution_count": 35,
   "metadata": {},
   "outputs": [
    {
     "name": "stdout",
     "output_type": "stream",
     "text": [
      "x is not a integer\n",
      "x is 5\n",
      "x is not a integer\n",
      "x is 5\n",
      "x is not a integer\n",
      "x is 5\n"
     ]
    }
   ],
   "source": [
    "while True:\n",
    "    try:\n",
    "        x=int(input(\"what is x: \"))\n",
    "    except ValueError:\n",
    "        print(\"x is not a integer\")\n",
    "    else:\n",
    "        break\n",
    "\n",
    "    print(f\"x is {x}\")"
   ]
  },
  {
   "cell_type": "code",
   "execution_count": 3,
   "metadata": {},
   "outputs": [
    {
     "name": "stdout",
     "output_type": "stream",
     "text": [
      "x is 3\n"
     ]
    }
   ],
   "source": [
    "def main():\n",
    "    x = get_int()\n",
    "    print(f\"x is {x}\")\n",
    "\n",
    "def get_int():\n",
    "    while True:\n",
    "        try:\n",
    "            x = int(input(\"Enter an integer for x: \"))\n",
    "        except ValueError:\n",
    "            pass#passes the arg which is not an integer\n",
    "        else:\n",
    "            break\n",
    "    return x\n",
    "\n",
    "if __name__ == \"__main__\":\n",
    "    main()\n"
   ]
  },
  {
   "cell_type": "code",
   "execution_count": 6,
   "metadata": {},
   "outputs": [
    {
     "name": "stdout",
     "output_type": "stream",
     "text": [
      "tails\n"
     ]
    }
   ],
   "source": [
    "import random\n",
    "\n",
    "coin = random.choice([\"heads\", \"tails\"])\n",
    "print(coin)\n"
   ]
  },
  {
   "cell_type": "code",
   "execution_count": 63,
   "metadata": {},
   "outputs": [
    {
     "name": "stdout",
     "output_type": "stream",
     "text": [
      "tails\n"
     ]
    }
   ],
   "source": [
    "from random import choice\n",
    "\n",
    "coin = random.choice([\"heads\", \"tails\"])\n",
    "print(coin)\n"
   ]
  },
  {
   "cell_type": "code",
   "execution_count": 9,
   "metadata": {},
   "outputs": [
    {
     "name": "stdout",
     "output_type": "stream",
     "text": [
      "10\n"
     ]
    }
   ],
   "source": [
    "import random\n",
    "\n",
    "number = random.randint(1,10)\n",
    "print(number)"
   ]
  },
  {
   "cell_type": "code",
   "execution_count": 68,
   "metadata": {},
   "outputs": [
    {
     "name": "stdout",
     "output_type": "stream",
     "text": [
      "king\n",
      "jack\n",
      "queen\n"
     ]
    }
   ],
   "source": [
    "import random\n",
    "\n",
    "cards=[\"jack\",\"queen\",\"king\"]\n",
    "random.shuffle(cards)\n",
    "for card in cards:\n",
    "    print(card)"
   ]
  },
  {
   "cell_type": "code",
   "execution_count": 71,
   "metadata": {},
   "outputs": [
    {
     "name": "stdout",
     "output_type": "stream",
     "text": [
      "95\n",
      "15.0\n"
     ]
    }
   ],
   "source": [
    "import statistics\n",
    "\n",
    "print(statistics.mean([100, 90]))\n",
    "print(statistics.median([10, 20, 29, 2]))\n"
   ]
  },
  {
   "cell_type": "code",
   "execution_count": 79,
   "metadata": {},
   "outputs": [
    {
     "name": "stdout",
     "output_type": "stream",
     "text": [
      "Hello, my name is --f=c:\\Users\\parim\\AppData\\Roaming\\jupyter\\runtime\\kernel-v2-20084lo3UkkIB2dre.json\n"
     ]
    }
   ],
   "source": [
    "import sys\n",
    "try:\n",
    "    print(\"Hello my name is\",sys.argv[1])\n",
    "\n",
    "except IndexError:\n",
    "    print(\"too few arguments\")\n",
    "\n",
    "    \n",
    "\n",
    "\n",
    "\n"
   ]
  },
  {
   "cell_type": "code",
   "execution_count": 82,
   "metadata": {},
   "outputs": [
    {
     "name": "stdout",
     "output_type": "stream",
     "text": [
      "Hello, my name is --f=c:\\Users\\parim\\AppData\\Roaming\\jupyter\\runtime\\kernel-v2-20084lo3UkkIB2dre.json\n"
     ]
    }
   ],
   "source": [
    "import sys\n",
    "\n",
    "if len(sys.argv) < 2:\n",
    "    print(\"too few arg\")\n",
    "\n",
    "elif len(sys.argv)>2:\n",
    "    print(\"too many arg\")\n",
    "else:\n",
    "    print(\"Hello, my name is\", sys.argv[1])\n"
   ]
  },
  {
   "cell_type": "code",
   "execution_count": 16,
   "metadata": {},
   "outputs": [
    {
     "name": "stdout",
     "output_type": "stream",
     "text": [
      "Hello, my name is --f=c:\\Users\\parim\\AppData\\Roaming\\jupyter\\runtime\\kernel-v2-14744jV9bwrTpJF3O.json\n"
     ]
    }
   ],
   "source": [
    "import sys\n",
    "\n",
    "if len(sys.argv) < 2:\n",
    "    sys.exit(\"too few arg\")\n",
    "\n",
    "elif len(sys.argv)>2:\n",
    "    sys.exit(\"too many arg\")\n",
    "\n",
    "print(\"Hello, my name is\", sys.argv[1])\n"
   ]
  },
  {
   "cell_type": "code",
   "execution_count": 88,
   "metadata": {},
   "outputs": [
    {
     "name": "stdout",
     "output_type": "stream",
     "text": [
      "hello,my name is C:\\Users\\parim\\AppData\\Roaming\\Python\\Python312\\site-packages\\ipykernel_launcher.py\n",
      "hello,my name is --f=c:\\Users\\parim\\AppData\\Roaming\\jupyter\\runtime\\kernel-v2-20084lo3UkkIB2dre.json\n"
     ]
    }
   ],
   "source": [
    "import sys\n",
    "\n",
    "if len(sys.argv) < 2:\n",
    "    print(\"too few arg\")\n",
    "\n",
    "for arg in sys.argv:\n",
    "    print(\"hello,my name is\",arg)"
   ]
  },
  {
   "cell_type": "code",
   "execution_count": 89,
   "metadata": {},
   "outputs": [
    {
     "name": "stdout",
     "output_type": "stream",
     "text": [
      "hello,my name is --f=c:\\Users\\parim\\AppData\\Roaming\\jupyter\\runtime\\kernel-v2-20084lo3UkkIB2dre.json\n"
     ]
    }
   ],
   "source": [
    "import sys\n",
    "\n",
    "if len(sys.argv) < 2:\n",
    "    print(\"too few arg\")\n",
    "\n",
    "for arg in sys.argv[1:-1]:#slicing\n",
    "    print(\"hello,my name is\",arg)"
   ]
  },
  {
   "cell_type": "code",
   "execution_count": 19,
   "metadata": {},
   "outputs": [
    {
     "name": "stdout",
     "output_type": "stream",
     "text": [
      "  _________________________________________________\n",
      " /                                                 \\\n",
      "| hello,--f=c:\\Users\\parim\\AppData\\Roaming\\jupyter\\ |\n",
      "| runtime\\kernel-v2-14744jV9bwrTpJF3O.json          |\n",
      " \\                                                 /\n",
      "  =================================================\n",
      "                                                 \\\n",
      "                                                  \\\n",
      "                                                    ^__^\n",
      "                                                    (oo)\\_______\n",
      "                                                    (__)\\       )\\/\\\n",
      "                                                        ||----w |\n",
      "                                                        ||     ||\n"
     ]
    }
   ],
   "source": [
    "import cowsay\n",
    "import sys\n",
    "\n",
    "if len(sys.argv) == 2:\n",
    "    cowsay.cow(\"hello,\" + sys.argv[1])\n"
   ]
  },
  {
   "cell_type": "code",
   "execution_count": 20,
   "metadata": {},
   "outputs": [
    {
     "name": "stdout",
     "output_type": "stream",
     "text": [
      "  _________________________________________________\n",
      " /                                                 \\\n",
      "| hello,--f=c:\\Users\\parim\\AppData\\Roaming\\jupyter\\ |\n",
      "| runtime\\kernel-v2-14744jV9bwrTpJF3O.json          |\n",
      " \\                                                 /\n",
      "  =================================================\n",
      "                                                        \\\n",
      "                                                         \\\n",
      "                                                          \\\n",
      "                                                           \\\n",
      "                                                              .-=-==--==--.\n",
      "                                                        ..-==\"  ,'o`)      `.\n",
      "                                                      ,'         `\"'         \\\n",
      "                                                     :  (                     `.__...._\n",
      "                                                     |                  )    /         `-=-.\n",
      "                                                     :       ,vv.-._   /    /               `---==-._\n",
      "                                                      \\/\\/\\/VV ^ d88`;'    /                         `.\n",
      "                                                          ``  ^/d88P!'    /             ,              `._\n",
      "                                                             ^/    !'   ,.      ,      /                  \"-,,__,,--'\"\"\"\"-.\n",
      "                                                            ^/    !'  ,'  \\ . .(      (         _           )  ) ) ) ))_,-.\\\n",
      "                                                           ^(__ ,!',\"'   ;:+.:%:a.     \\:.. . ,'          )  )  ) ) ,\"'    '\n",
      "                                                           ',,,'','     /o:::\":%:%a.    \\:.:.:         .    )  ) _,'\n",
      "                                                            \"\"\"'       ;':::'' `+%%%a._  \\%:%|         ;.). _,-\"\"\n",
      "                                                                   ,-='_.-'      ``:%::)  )%:|        /:._,\"\n",
      "                                                                  (/(/\"           ,\" ,'_,'%%%:       (_,'\n",
      "                                                                                 (  (//(`.___;        \\\n",
      "                                                                                  \\     \\    `         `\n",
      "                                                                                   `.    `.   `.        :\n",
      "                                                                                     \\. . .\\    : . . . :\n",
      "                                                                                      \\. . .:    `.. . .:\n",
      "                                                                                       `..:.:\\     \\:...\\\n",
      "                                                                                        ;:.:.;      ::...:\n",
      "                                                                                        ):%::       :::::;\n",
      "                                                                                    __,::%:(        :::::\n",
      "                                                                                 ,;:%%%%%%%:        ;:%::\n",
      "                                                                                   ;,--\"\"-.`\\  ,=--':%:%:\\\n",
      "                                                                                  /\"       \"| /-\".:%%%%%%%\\\n",
      "                                                                                                  ;,-\"'`)%%)\n",
      "                                                                                                 /\"      \"|\n"
     ]
    }
   ],
   "source": [
    "import cowsay\n",
    "import sys\n",
    "\n",
    "if len(sys.argv) == 2:\n",
    "    cowsay.trex(\"hello,\" + sys.argv[1])\n"
   ]
  },
  {
   "cell_type": "code",
   "execution_count": null,
   "metadata": {},
   "outputs": [],
   "source": [
    "import json\n",
    "import requests\n",
    "import sys\n",
    "\n",
    "if len(sys.argv)!=2:\n",
    "    sys.exit()\n",
    "\n",
    "response= requests.get(\"https://itunes.apple.com/search?entity=song&limit=1&term=\" + sys.argv[1])\n",
    "print(json.dumps(response.json(),indent=2))\n",
    "\n",
    "o =response.json()\n",
    "for result in o[\"results\"]:\n",
    "    print(result[\"trackname\"])\n"
   ]
  },
  {
   "cell_type": "code",
   "execution_count": 94,
   "metadata": {},
   "outputs": [
    {
     "name": "stdout",
     "output_type": "stream",
     "text": [
      "Hello, world\n",
      "Goodbye, world\n"
     ]
    }
   ],
   "source": [
    "def hello(name):\n",
    "    print(f\"Hello, {name}\")\n",
    "\n",
    "def goodbye(name):\n",
    "    print(f\"Goodbye, {name}\")\n",
    "\n",
    "def main():\n",
    "    hello(\"world\")\n",
    "    goodbye(\"world\")\n",
    "\n",
    "if __name__ == \"__main__\":\n",
    "    main()\n",
    "\n",
    "# so that our code does not consider to run when we import the same function int he other program\n"
   ]
  },
  {
   "cell_type": "code",
   "execution_count": null,
   "metadata": {},
   "outputs": [],
   "source": [
    "#impotying from above\n",
    "import sys\n",
    "\n",
    "from sayings import hello\n",
    "\n",
    "if len(sys.argv)==2:\n",
    "    hello(sys.argv[1])"
   ]
  },
  {
   "cell_type": "code",
   "execution_count": 17,
   "metadata": {},
   "outputs": [
    {
     "name": "stdout",
     "output_type": "stream",
     "text": [
      "The square of 8 is 64\n"
     ]
    }
   ],
   "source": [
    "def main():\n",
    "    x = int(input(\"Enter a number: \"))\n",
    "    print(\"The square of\", x, \"is\", square(x))\n",
    "\n",
    "def square(n):\n",
    "    return n * n\n",
    "\n",
    "if __name__ == \"__main__\":\n",
    "    main()\n"
   ]
  },
  {
   "cell_type": "code",
   "execution_count": 2,
   "metadata": {},
   "outputs": [
    {
     "ename": "UnboundLocalError",
     "evalue": "cannot access local variable 'square' where it is not associated with a value",
     "output_type": "error",
     "traceback": [
      "\u001b[1;31m---------------------------------------------------------------------------\u001b[0m",
      "\u001b[1;31mUnboundLocalError\u001b[0m                         Traceback (most recent call last)",
      "Cell \u001b[1;32mIn[2], line 9\u001b[0m\n\u001b[0;32m      6\u001b[0m     square\u001b[38;5;241m=\u001b[39msquare(n)\n\u001b[0;32m      7\u001b[0m     \u001b[38;5;28mprint\u001b[39m(\u001b[38;5;124mf\u001b[39m\u001b[38;5;124m\"\u001b[39m\u001b[38;5;124msquare is \u001b[39m\u001b[38;5;132;01m{\u001b[39;00msquare(n)\u001b[38;5;132;01m}\u001b[39;00m\u001b[38;5;124m\"\u001b[39m)\n\u001b[1;32m----> 9\u001b[0m \u001b[43mmain\u001b[49m\u001b[43m(\u001b[49m\u001b[43m)\u001b[49m\n",
      "Cell \u001b[1;32mIn[2], line 6\u001b[0m, in \u001b[0;36mmain\u001b[1;34m()\u001b[0m\n\u001b[0;32m      4\u001b[0m \u001b[38;5;28;01mdef\u001b[39;00m \u001b[38;5;21mmain\u001b[39m():\n\u001b[0;32m      5\u001b[0m     n\u001b[38;5;241m=\u001b[39m\u001b[38;5;28mint\u001b[39m(\u001b[38;5;28minput\u001b[39m())\n\u001b[1;32m----> 6\u001b[0m     square\u001b[38;5;241m=\u001b[39m\u001b[43msquare\u001b[49m(n)\n\u001b[0;32m      7\u001b[0m     \u001b[38;5;28mprint\u001b[39m(\u001b[38;5;124mf\u001b[39m\u001b[38;5;124m\"\u001b[39m\u001b[38;5;124msquare is \u001b[39m\u001b[38;5;132;01m{\u001b[39;00msquare(n)\u001b[38;5;132;01m}\u001b[39;00m\u001b[38;5;124m\"\u001b[39m)\n",
      "\u001b[1;31mUnboundLocalError\u001b[0m: cannot access local variable 'square' where it is not associated with a value"
     ]
    }
   ],
   "source": [
    "def square(n):\n",
    "    return n * n\n",
    "\n",
    "def main():\n",
    "    x = int(input(\"Enter a number: \"))\n",
    "    result = square(x)\n",
    "    print(f\"Square of {x} is {result}\")\n",
    "\n",
    "if __name__ == \"__main__\":\n",
    "    main()\n",
    "#p.py"
   ]
  },
  {
   "cell_type": "code",
   "execution_count": 11,
   "metadata": {},
   "outputs": [
    {
     "ename": "IndentationError",
     "evalue": "expected an indented block after 'except' statement on line 14 (200805375.py, line 16)",
     "output_type": "error",
     "traceback": [
      "\u001b[1;36m  Cell \u001b[1;32mIn[11], line 16\u001b[1;36m\u001b[0m\n\u001b[1;33m    def main():\u001b[0m\n\u001b[1;37m               ^\u001b[0m\n\u001b[1;31mIndentationError\u001b[0m\u001b[1;31m:\u001b[0m expected an indented block after 'except' statement on line 14\n"
     ]
    }
   ],
   "source": [
    "from p import square\n",
    "\n",
    "def test_square():\n",
    "    try:\n",
    "        assert square(2)==4\n",
    "    except AssertionError:\n",
    "        print(\"2 square is not 4\")\n",
    "    try:\n",
    "        assert square(3)==9\n",
    "    except AssertionError:\n",
    "        print(\"3 squared is not 9\")\n",
    "    try:\n",
    "        assert square(-2)==4\n",
    "    except AssertionError:\n",
    "        print(\"-2 squared is not 4\")\n",
    "    \n",
    "def main():\n",
    "    test_square()\n",
    "\n",
    "if __name__==\"__main__\":\n",
    "    main()\n",
    "\n",
    "\n",
    "# this is wrong use pytest\n",
    "\n"
   ]
  },
  {
   "cell_type": "code",
   "execution_count": null,
   "metadata": {},
   "outputs": [],
   "source": [
    "from p import square\n",
    "\n",
    "def test_square():\n",
    "    assert square(2)==4\n",
    "    assert square(3)==9\n",
    "    assert square(-2)==4\n",
    "    assert square(-3)==9\n",
    "    assert square(0)==0\n",
    "    \n",
    "\n",
    "\n",
    "#pytest is gonna automate\n",
    "    \n",
    "#name of this file is test_p\n",
    "#assuming p is calculator with a defined function square above\n",
    "#run this file in terminal as pytest test_calculator.py\n",
    "#in our program it is defined as pytest test_p.py\n",
    "\n",
    "\n",
    " "
   ]
  },
  {
   "cell_type": "code",
   "execution_count": 12,
   "metadata": {},
   "outputs": [
    {
     "ename": "SyntaxError",
     "evalue": "incomplete input (296327044.py, line 11)",
     "output_type": "error",
     "traceback": [
      "\u001b[1;36m  Cell \u001b[1;32mIn[12], line 11\u001b[1;36m\u001b[0m\n\u001b[1;33m    def test_zero():\u001b[0m\n\u001b[1;37m                    ^\u001b[0m\n\u001b[1;31mSyntaxError\u001b[0m\u001b[1;31m:\u001b[0m incomplete input\n"
     ]
    }
   ],
   "source": [
    "import pytest\n",
    "\n",
    "from p import square\n",
    "\n",
    "def test_positive():\n",
    "    assert square(2)==4\n",
    "    assert square(3)==9\n",
    "\n",
    "def test_negative():\n",
    "    assert square(-2)==4\n",
    "    assert square(-3)==9\n",
    "\n",
    "def test_zero():\n",
    "    assert square(0)==0\n",
    "\n",
    "def test_str():\n",
    "    with pytest.raises(TypeError):\n",
    "        square(\"cat\")\n",
    "\n",
    "\n",
    "\n",
    "#so it checks errors for all the functions provide so that we can judge the bug\n",
    "    "
   ]
  },
  {
   "cell_type": "code",
   "execution_count": 17,
   "metadata": {},
   "outputs": [
    {
     "name": "stdout",
     "output_type": "stream",
     "text": [
      "hello, pariaml\n",
      "None\n"
     ]
    }
   ],
   "source": [
    "def main():\n",
    "    name=input(\"what,s your name?\")\n",
    "    print(hello(name))#for testing this is helpfull\n",
    "\n",
    "def hello(to=\" world\"):\n",
    "    print(\"hello,\",to)\n",
    "\n",
    "if __name__==\"__main__\":\n",
    "    main()\n",
    "#file name hello.py"
   ]
  },
  {
   "cell_type": "code",
   "execution_count": null,
   "metadata": {},
   "outputs": [],
   "source": [
    "from hello import hello\n",
    "\n",
    "def test_argument():\n",
    "    assert hello(\"David\")==\"hello,David\"\n",
    "\n",
    "for name in [\"hermoine\",\"ron\",\"harry\"]:\n",
    "    assert hello(name)== f\"hello\",{name}\"\n",
    "def test_default():\n",
    "    assert hello()==\"hello, World\"\n",
    "    \n",
    "\n",
    "\n"
   ]
  },
  {
   "cell_type": "code",
   "execution_count": 2,
   "metadata": {},
   "outputs": [
    {
     "name": "stdout",
     "output_type": "stream",
     "text": [
      "[1, 2, 4, 7, 9]\n",
      "['apple', 'banana', 'grape', 'orange']\n"
     ]
    }
   ],
   "source": [
    "# Sorting a list of numbers\n",
    "numbers = [4, 2, 7, 1, 9]\n",
    "sorted_numbers = sorted(numbers)\n",
    "print(sorted_numbers)  # Output: [1, 2, 4, 7, 9]\n",
    "\n",
    "# Sorting a list of strings\n",
    "fruits = [\"apple\", \"orange\", \"banana\", \"grape\"]\n",
    "sorted_fruits = sorted(fruits)\n",
    "print(sorted_fruits)  # Output:\n"
   ]
  },
  {
   "cell_type": "code",
   "execution_count": 1,
   "metadata": {},
   "outputs": [
    {
     "name": "stdout",
     "output_type": "stream",
     "text": [
      "hello ,p\n",
      "hello ,p\n",
      "hello ,p\n"
     ]
    }
   ],
   "source": [
    "#names.py\n",
    "names=[]\n",
    "\n",
    "for i in range(3):\n",
    "    names.append(input(\"what is your name\"))\n",
    "\n",
    "for name in sorted(names):\n",
    "    print(f\"hello ,{name}\")\n",
    "    "
   ]
  },
  {
   "cell_type": "code",
   "execution_count": 5,
   "metadata": {},
   "outputs": [
    {
     "data": {
      "text/plain": [
       "<_io.TextIOWrapper name='names.txt' mode='w' encoding='cp1252'>"
      ]
     },
     "execution_count": 5,
     "metadata": {},
     "output_type": "execute_result"
    }
   ],
   "source": [
    "name=input(\"what is your name\")\n",
    "\n",
    "file = open(\"names.txt\",\"w\")\n",
    "file.write(name)\n",
    "file.close()\n",
    "\n"
   ]
  },
  {
   "cell_type": "code",
   "execution_count": 6,
   "metadata": {},
   "outputs": [],
   "source": [
    "name=input(\"what is your name\")\n",
    "\n",
    "file = open(\"names.txt\",\"a\")#a in here means to append the following information\n",
    "file.write(f\"{name}\\n\")\n",
    "file.close()\n",
    "\n",
    "\n",
    "\n"
   ]
  },
  {
   "cell_type": "code",
   "execution_count": null,
   "metadata": {},
   "outputs": [],
   "source": [
    "name=input(\"what is your name\")\n",
    "\n",
    "with open (\"names.txt\",\"a\") as file:\n",
    "    file.write(f\"{name}\\n\")\n",
    "    \n"
   ]
  },
  {
   "cell_type": "code",
   "execution_count": null,
   "metadata": {},
   "outputs": [],
   "source": [
    "with open(\"nameFsss.txt\",\"r\") as file:\n",
    "    lines=file.readlines()\n",
    "\n",
    "for line in lines:\n",
    "    print(\"hello,\",line.rstrip())\n"
   ]
  },
  {
   "cell_type": "code",
   "execution_count": null,
   "metadata": {},
   "outputs": [],
   "source": [
    "with open(\"namse.txt\",\"r\") as file:\n",
    "    for line in file:\n",
    "        print(\"hello,\",line.rstrip())\n",
    "        "
   ]
  },
  {
   "cell_type": "code",
   "execution_count": 18,
   "metadata": {},
   "outputs": [
    {
     "ename": "FileNotFoundError",
     "evalue": "[Errno 2] No such file or directory: 'ingid.txt'",
     "output_type": "error",
     "traceback": [
      "\u001b[1;31m---------------------------------------------------------------------------\u001b[0m",
      "\u001b[1;31mFileNotFoundError\u001b[0m                         Traceback (most recent call last)",
      "Cell \u001b[1;32mIn[18], line 2\u001b[0m\n\u001b[0;32m      1\u001b[0m names\u001b[38;5;241m=\u001b[39m[]\n\u001b[1;32m----> 2\u001b[0m \u001b[38;5;28;01mwith\u001b[39;00m \u001b[38;5;28;43mopen\u001b[39;49m\u001b[43m(\u001b[49m\u001b[38;5;124;43m\"\u001b[39;49m\u001b[38;5;124;43mingid.txt\u001b[39;49m\u001b[38;5;124;43m\"\u001b[39;49m\u001b[43m)\u001b[49m \u001b[38;5;28;01mas\u001b[39;00m file:\n\u001b[0;32m      3\u001b[0m     \u001b[38;5;28;01mfor\u001b[39;00m line \u001b[38;5;129;01min\u001b[39;00m file:\n\u001b[0;32m      4\u001b[0m         names\u001b[38;5;241m.\u001b[39mappend(line\u001b[38;5;241m.\u001b[39mrstrip())\n",
      "File \u001b[1;32m~\\AppData\\Roaming\\Python\\Python312\\site-packages\\IPython\\core\\interactiveshell.py:310\u001b[0m, in \u001b[0;36m_modified_open\u001b[1;34m(file, *args, **kwargs)\u001b[0m\n\u001b[0;32m    303\u001b[0m \u001b[38;5;28;01mif\u001b[39;00m file \u001b[38;5;129;01min\u001b[39;00m {\u001b[38;5;241m0\u001b[39m, \u001b[38;5;241m1\u001b[39m, \u001b[38;5;241m2\u001b[39m}:\n\u001b[0;32m    304\u001b[0m     \u001b[38;5;28;01mraise\u001b[39;00m \u001b[38;5;167;01mValueError\u001b[39;00m(\n\u001b[0;32m    305\u001b[0m         \u001b[38;5;124mf\u001b[39m\u001b[38;5;124m\"\u001b[39m\u001b[38;5;124mIPython won\u001b[39m\u001b[38;5;124m'\u001b[39m\u001b[38;5;124mt let you open fd=\u001b[39m\u001b[38;5;132;01m{\u001b[39;00mfile\u001b[38;5;132;01m}\u001b[39;00m\u001b[38;5;124m by default \u001b[39m\u001b[38;5;124m\"\u001b[39m\n\u001b[0;32m    306\u001b[0m         \u001b[38;5;124m\"\u001b[39m\u001b[38;5;124mas it is likely to crash IPython. If you know what you are doing, \u001b[39m\u001b[38;5;124m\"\u001b[39m\n\u001b[0;32m    307\u001b[0m         \u001b[38;5;124m\"\u001b[39m\u001b[38;5;124myou can use builtins\u001b[39m\u001b[38;5;124m'\u001b[39m\u001b[38;5;124m open.\u001b[39m\u001b[38;5;124m\"\u001b[39m\n\u001b[0;32m    308\u001b[0m     )\n\u001b[1;32m--> 310\u001b[0m \u001b[38;5;28;01mreturn\u001b[39;00m \u001b[43mio_open\u001b[49m\u001b[43m(\u001b[49m\u001b[43mfile\u001b[49m\u001b[43m,\u001b[49m\u001b[43m \u001b[49m\u001b[38;5;241;43m*\u001b[39;49m\u001b[43margs\u001b[49m\u001b[43m,\u001b[49m\u001b[43m \u001b[49m\u001b[38;5;241;43m*\u001b[39;49m\u001b[38;5;241;43m*\u001b[39;49m\u001b[43mkwargs\u001b[49m\u001b[43m)\u001b[49m\n",
      "\u001b[1;31mFileNotFoundError\u001b[0m: [Errno 2] No such file or directory: 'ingid.txt'"
     ]
    }
   ],
   "source": [
    "names=[]\n",
    "with open(\"ingid.txt\") as file:\n",
    "    for line in file:\n",
    "        names.append(line.rstrip())\n",
    "for name in sorted(names):\n",
    "    print(f\"hello,{name}\")"
   ]
  },
  {
   "cell_type": "code",
   "execution_count": 3,
   "metadata": {},
   "outputs": [
    {
     "ename": "FileNotFoundError",
     "evalue": "[Errno 2] No such file or directory: 'namam.txt'",
     "output_type": "error",
     "traceback": [
      "\u001b[1;31m---------------------------------------------------------------------------\u001b[0m",
      "\u001b[1;31mFileNotFoundError\u001b[0m                         Traceback (most recent call last)",
      "Cell \u001b[1;32mIn[3], line 3\u001b[0m\n\u001b[0;32m      1\u001b[0m names \u001b[38;5;241m=\u001b[39m []\n\u001b[1;32m----> 3\u001b[0m \u001b[38;5;28;01mwith\u001b[39;00m \u001b[38;5;28;43mopen\u001b[39;49m\u001b[43m(\u001b[49m\u001b[38;5;124;43m\"\u001b[39;49m\u001b[38;5;124;43mnamam.txt\u001b[39;49m\u001b[38;5;124;43m\"\u001b[39;49m\u001b[43m)\u001b[49m \u001b[38;5;28;01mas\u001b[39;00m file:\n\u001b[0;32m      4\u001b[0m     \u001b[38;5;28;01mfor\u001b[39;00m line \u001b[38;5;129;01min\u001b[39;00m file:\n\u001b[0;32m      5\u001b[0m         names\u001b[38;5;241m.\u001b[39mappend(line\u001b[38;5;241m.\u001b[39mrstrip())\n",
      "File \u001b[1;32m~\\AppData\\Roaming\\Python\\Python312\\site-packages\\IPython\\core\\interactiveshell.py:310\u001b[0m, in \u001b[0;36m_modified_open\u001b[1;34m(file, *args, **kwargs)\u001b[0m\n\u001b[0;32m    303\u001b[0m \u001b[38;5;28;01mif\u001b[39;00m file \u001b[38;5;129;01min\u001b[39;00m {\u001b[38;5;241m0\u001b[39m, \u001b[38;5;241m1\u001b[39m, \u001b[38;5;241m2\u001b[39m}:\n\u001b[0;32m    304\u001b[0m     \u001b[38;5;28;01mraise\u001b[39;00m \u001b[38;5;167;01mValueError\u001b[39;00m(\n\u001b[0;32m    305\u001b[0m         \u001b[38;5;124mf\u001b[39m\u001b[38;5;124m\"\u001b[39m\u001b[38;5;124mIPython won\u001b[39m\u001b[38;5;124m'\u001b[39m\u001b[38;5;124mt let you open fd=\u001b[39m\u001b[38;5;132;01m{\u001b[39;00mfile\u001b[38;5;132;01m}\u001b[39;00m\u001b[38;5;124m by default \u001b[39m\u001b[38;5;124m\"\u001b[39m\n\u001b[0;32m    306\u001b[0m         \u001b[38;5;124m\"\u001b[39m\u001b[38;5;124mas it is likely to crash IPython. If you know what you are doing, \u001b[39m\u001b[38;5;124m\"\u001b[39m\n\u001b[0;32m    307\u001b[0m         \u001b[38;5;124m\"\u001b[39m\u001b[38;5;124myou can use builtins\u001b[39m\u001b[38;5;124m'\u001b[39m\u001b[38;5;124m open.\u001b[39m\u001b[38;5;124m\"\u001b[39m\n\u001b[0;32m    308\u001b[0m     )\n\u001b[1;32m--> 310\u001b[0m \u001b[38;5;28;01mreturn\u001b[39;00m \u001b[43mio_open\u001b[49m\u001b[43m(\u001b[49m\u001b[43mfile\u001b[49m\u001b[43m,\u001b[49m\u001b[43m \u001b[49m\u001b[38;5;241;43m*\u001b[39;49m\u001b[43margs\u001b[49m\u001b[43m,\u001b[49m\u001b[43m \u001b[49m\u001b[38;5;241;43m*\u001b[39;49m\u001b[38;5;241;43m*\u001b[39;49m\u001b[43mkwargs\u001b[49m\u001b[43m)\u001b[49m\n",
      "\u001b[1;31mFileNotFoundError\u001b[0m: [Errno 2] No such file or directory: 'namam.txt'"
     ]
    }
   ],
   "source": [
    "names=[]\n",
    "\n",
    "with open(\"namam.txt\") as file:\n",
    "    for line in file:\n",
    "        names.append(line.rstrip())\n",
    "        \n",
    "for name in sorted(names,reverse=True):\n",
    "    print(f\"hello,{name}\")"
   ]
  },
  {
   "cell_type": "code",
   "execution_count": 17,
   "metadata": {},
   "outputs": [
    {
     "ename": "UnsupportedOperation",
     "evalue": "not readable",
     "output_type": "error",
     "traceback": [
      "\u001b[1;31m---------------------------------------------------------------------------\u001b[0m",
      "\u001b[1;31mUnsupportedOperation\u001b[0m                      Traceback (most recent call last)",
      "Cell \u001b[1;32mIn[17], line 2\u001b[0m\n\u001b[0;32m      1\u001b[0m \u001b[38;5;28;01mwith\u001b[39;00m \u001b[38;5;28mopen\u001b[39m(\u001b[38;5;124m\"\u001b[39m\u001b[38;5;124mstudenvts.csv\u001b[39m\u001b[38;5;124m\"\u001b[39m,\u001b[38;5;124m\"\u001b[39m\u001b[38;5;124ma\u001b[39m\u001b[38;5;124m\"\u001b[39m) \u001b[38;5;28;01mas\u001b[39;00m file:\n\u001b[1;32m----> 2\u001b[0m \u001b[43m    \u001b[49m\u001b[38;5;28;43;01mfor\u001b[39;49;00m\u001b[43m \u001b[49m\u001b[43mline\u001b[49m\u001b[43m \u001b[49m\u001b[38;5;129;43;01min\u001b[39;49;00m\u001b[43m \u001b[49m\u001b[43mfile\u001b[49m\u001b[43m:\u001b[49m\n\u001b[0;32m      3\u001b[0m \u001b[43m        \u001b[49m\u001b[43mrow\u001b[49m\u001b[38;5;241;43m=\u001b[39;49m\u001b[43m \u001b[49m\u001b[43mline\u001b[49m\u001b[38;5;241;43m.\u001b[39;49m\u001b[43mrstrip\u001b[49m\u001b[43m(\u001b[49m\u001b[43m)\u001b[49m\u001b[38;5;241;43m.\u001b[39;49m\u001b[43msplit\u001b[49m\u001b[43m(\u001b[49m\u001b[38;5;124;43m\"\u001b[39;49m\u001b[38;5;124;43m,\u001b[39;49m\u001b[38;5;124;43m\"\u001b[39;49m\u001b[43m)\u001b[49m\n\u001b[0;32m      4\u001b[0m \u001b[43m        \u001b[49m\u001b[38;5;28;43mprint\u001b[39;49m\u001b[43m(\u001b[49m\u001b[38;5;124;43mf\u001b[39;49m\u001b[38;5;124;43m\"\u001b[39;49m\u001b[38;5;132;43;01m{\u001b[39;49;00m\u001b[43mrow\u001b[49m\u001b[43m[\u001b[49m\u001b[38;5;241;43m0\u001b[39;49m\u001b[43m]\u001b[49m\u001b[38;5;132;43;01m}\u001b[39;49;00m\u001b[38;5;124;43m is in \u001b[39;49m\u001b[38;5;132;43;01m{\u001b[39;49;00m\u001b[43mrow\u001b[49m\u001b[43m[\u001b[49m\u001b[38;5;241;43m1\u001b[39;49m\u001b[43m]\u001b[49m\u001b[38;5;132;43;01m}\u001b[39;49;00m\u001b[38;5;124;43m\"\u001b[39;49m\u001b[43m)\u001b[49m\n",
      "\u001b[1;31mUnsupportedOperation\u001b[0m: not readable"
     ]
    },
    {
     "ename": "",
     "evalue": "",
     "output_type": "error",
     "traceback": [
      "\u001b[1;31mThe Kernel crashed while executing code in the the current cell or a previous cell. Please review the code in the cell(s) to identify a possible cause of the failure. Click <a href='https://aka.ms/vscodeJupyterKernelCrash'>here</a> for more info. View Jupyter <a href='command:jupyter.viewOutput'>log</a> for further details."
     ]
    }
   ],
   "source": [
    "with open(\"studenvts.csv\",\"a\") as file:\n",
    "    for line in file:\n",
    "        row= line.rstrip().split(\",\")\n",
    "        print(f\"{row[0]} is in {row[1]}\")\n",
    "        "
   ]
  },
  {
   "cell_type": "code",
   "execution_count": null,
   "metadata": {},
   "outputs": [],
   "source": [
    "#file name students.csv\n",
    "#with stored data\n",
    "#Hermoine,Gryffindor\n",
    "#Harry,Gryffindor\n",
    "#Ron,Gryffindor\n",
    "#Draco,Slytherin"
   ]
  },
  {
   "cell_type": "code",
   "execution_count": 2,
   "metadata": {},
   "outputs": [
    {
     "ename": "SyntaxError",
     "evalue": "incomplete input (2185509397.py, line 4)",
     "output_type": "error",
     "traceback": [
      "\u001b[1;36m  Cell \u001b[1;32mIn[2], line 4\u001b[1;36m\u001b[0m\n\u001b[1;33m    for line in file:\u001b[0m\n\u001b[1;37m                     ^\u001b[0m\n\u001b[1;31mSyntaxError\u001b[0m\u001b[1;31m:\u001b[0m incomplete input\n"
     ]
    }
   ],
   "source": [
    "#csv comma seperated values to store multiple pieces of information which are same\n",
    "\n",
    "with open (\"students.csv\") as file:\n",
    "    for line in file:\n",
    "        name,house =line.rstrip().split(\",\")\n",
    "        print(f\"{name} is in {house}\")\n",
    "        "
   ]
  },
  {
   "cell_type": "code",
   "execution_count": 14,
   "metadata": {},
   "outputs": [
    {
     "ename": "FileNotFoundError",
     "evalue": "[Errno 2] No such file or directory: 'students.csv '",
     "output_type": "error",
     "traceback": [
      "\u001b[1;31m---------------------------------------------------------------------------\u001b[0m",
      "\u001b[1;31mFileNotFoundError\u001b[0m                         Traceback (most recent call last)",
      "Cell \u001b[1;32mIn[14], line 3\u001b[0m\n\u001b[0;32m      1\u001b[0m students\u001b[38;5;241m=\u001b[39m[]\n\u001b[1;32m----> 3\u001b[0m \u001b[38;5;28;01mwith\u001b[39;00m \u001b[38;5;28;43mopen\u001b[39;49m\u001b[43m(\u001b[49m\u001b[38;5;124;43m\"\u001b[39;49m\u001b[38;5;124;43mstudents.csv \u001b[39;49m\u001b[38;5;124;43m\"\u001b[39;49m\u001b[43m)\u001b[49m \u001b[38;5;28;01mas\u001b[39;00m file:\n\u001b[0;32m      4\u001b[0m     name,house\u001b[38;5;241m=\u001b[39mline\u001b[38;5;241m.\u001b[39mrstrip\u001b[38;5;241m.\u001b[39msplit(\u001b[38;5;124m\"\u001b[39m\u001b[38;5;124m,\u001b[39m\u001b[38;5;124m\"\u001b[39m)\n\u001b[0;32m      5\u001b[0m     students\u001b[38;5;241m.\u001b[39mappenf(\u001b[38;5;124mf\u001b[39m\u001b[38;5;124m\"\u001b[39m\u001b[38;5;132;01m{\u001b[39;00mname\u001b[38;5;132;01m}\u001b[39;00m\u001b[38;5;124m is in \u001b[39m\u001b[38;5;132;01m{\u001b[39;00mhouse\u001b[38;5;132;01m}\u001b[39;00m\u001b[38;5;124m\"\u001b[39m)\n",
      "File \u001b[1;32m~\\AppData\\Roaming\\Python\\Python312\\site-packages\\IPython\\core\\interactiveshell.py:310\u001b[0m, in \u001b[0;36m_modified_open\u001b[1;34m(file, *args, **kwargs)\u001b[0m\n\u001b[0;32m    303\u001b[0m \u001b[38;5;28;01mif\u001b[39;00m file \u001b[38;5;129;01min\u001b[39;00m {\u001b[38;5;241m0\u001b[39m, \u001b[38;5;241m1\u001b[39m, \u001b[38;5;241m2\u001b[39m}:\n\u001b[0;32m    304\u001b[0m     \u001b[38;5;28;01mraise\u001b[39;00m \u001b[38;5;167;01mValueError\u001b[39;00m(\n\u001b[0;32m    305\u001b[0m         \u001b[38;5;124mf\u001b[39m\u001b[38;5;124m\"\u001b[39m\u001b[38;5;124mIPython won\u001b[39m\u001b[38;5;124m'\u001b[39m\u001b[38;5;124mt let you open fd=\u001b[39m\u001b[38;5;132;01m{\u001b[39;00mfile\u001b[38;5;132;01m}\u001b[39;00m\u001b[38;5;124m by default \u001b[39m\u001b[38;5;124m\"\u001b[39m\n\u001b[0;32m    306\u001b[0m         \u001b[38;5;124m\"\u001b[39m\u001b[38;5;124mas it is likely to crash IPython. If you know what you are doing, \u001b[39m\u001b[38;5;124m\"\u001b[39m\n\u001b[0;32m    307\u001b[0m         \u001b[38;5;124m\"\u001b[39m\u001b[38;5;124myou can use builtins\u001b[39m\u001b[38;5;124m'\u001b[39m\u001b[38;5;124m open.\u001b[39m\u001b[38;5;124m\"\u001b[39m\n\u001b[0;32m    308\u001b[0m     )\n\u001b[1;32m--> 310\u001b[0m \u001b[38;5;28;01mreturn\u001b[39;00m \u001b[43mio_open\u001b[49m\u001b[43m(\u001b[49m\u001b[43mfile\u001b[49m\u001b[43m,\u001b[49m\u001b[43m \u001b[49m\u001b[38;5;241;43m*\u001b[39;49m\u001b[43margs\u001b[49m\u001b[43m,\u001b[49m\u001b[43m \u001b[49m\u001b[38;5;241;43m*\u001b[39;49m\u001b[38;5;241;43m*\u001b[39;49m\u001b[43mkwargs\u001b[49m\u001b[43m)\u001b[49m\n",
      "\u001b[1;31mFileNotFoundError\u001b[0m: [Errno 2] No such file or directory: 'students.csv '"
     ]
    }
   ],
   "source": [
    "students=[]\n",
    "\n",
    "with open(\"students.csv \") as file:\n",
    "    name,house=line.rstrip.split(\",\")\n",
    "    students.append(f\"{name} is in {house}\")\n",
    "    for student in sorted(students):\n",
    "        print(student)\n",
    "    "
   ]
  },
  {
   "cell_type": "code",
   "execution_count": null,
   "metadata": {},
   "outputs": [],
   "source": [
    "students = []\n",
    "\n",
    "with open(\"students.csv\") as file:\n",
    "    for line in file:\n",
    "        name, house = line.rstrip().split(\",\")\n",
    "        student = {\"name\": name, \"house\": house}\n",
    "        students.append(student)\n",
    "\n",
    "def get_name(student):\n",
    "    return student[\"name\"]\n",
    "\n",
    "def get_house(student):\n",
    "    return student[\"house\"]\n",
    "\n",
    "for student in sorted(students, key=lambda x: (get_name(x), get_house(x))):\n",
    "    print(f\"{student['name']} is in {student['house']}\")\n",
    "    \n",
    "for student in sorted(students, key=lambda student: student[\"name\"]):\n",
    "    print(f\"{student[\"name\"]} is in {student[\"house\"]}\")\n",
    "    \n",
    "    "
   ]
  },
  {
   "cell_type": "code",
   "execution_count": null,
   "metadata": {},
   "outputs": [],
   "source": [
    "import csv\n",
    "\n",
    "students = []\n",
    "\n",
    "with open(\"students.csv\") as file:\n",
    "    reader = csv.reader(file)\n",
    "    \n",
    "    for row in reader:\n",
    "        students.append({\"name\":row[0],\"home\":row[1]})\n",
    "    for line in reader:\n",
    "        name, house = line\n",
    "        student = {\"name\": name, \"house\": house}\n",
    "        students.append(student)\n",
    "\n",
    "for student in sorted(students, key=lambda x: x[\"name\"]):\n",
    "    print(f\"{student['name']} is in {student['house']}\")\n"
   ]
  },
  {
   "cell_type": "code",
   "execution_count": 26,
   "metadata": {},
   "outputs": [
    {
     "ename": "AttributeError",
     "evalue": "module 'csv' has no attribute 'write'",
     "output_type": "error",
     "traceback": [
      "\u001b[1;31m---------------------------------------------------------------------------\u001b[0m",
      "\u001b[1;31mAttributeError\u001b[0m                            Traceback (most recent call last)",
      "Cell \u001b[1;32mIn[26], line 7\u001b[0m\n\u001b[0;32m      4\u001b[0m home\u001b[38;5;241m=\u001b[39m\u001b[38;5;28minput\u001b[39m(\u001b[38;5;124m\"\u001b[39m\u001b[38;5;124mwhat is your home\u001b[39m\u001b[38;5;124m\"\u001b[39m)\n\u001b[0;32m      6\u001b[0m \u001b[38;5;28;01mwith\u001b[39;00m \u001b[38;5;28mopen\u001b[39m(\u001b[38;5;124m\"\u001b[39m\u001b[38;5;124mstudents.csv\u001b[39m\u001b[38;5;124m\"\u001b[39m,\u001b[38;5;124m\"\u001b[39m\u001b[38;5;124ma\u001b[39m\u001b[38;5;124m\"\u001b[39m) \u001b[38;5;28;01mas\u001b[39;00m file:\n\u001b[1;32m----> 7\u001b[0m     writer\u001b[38;5;241m=\u001b[39m\u001b[43mcsv\u001b[49m\u001b[38;5;241;43m.\u001b[39;49m\u001b[43mwrite\u001b[49m(file)\n\u001b[0;32m      8\u001b[0m     writer\u001b[38;5;241m.\u001b[39mwriterow([name,home])\n",
      "\u001b[1;31mAttributeError\u001b[0m: module 'csv' has no attribute 'write'"
     ]
    }
   ],
   "source": [
    "import csv \n",
    "\n",
    "name=input(\"what is your name\")\n",
    "home=input(\"what is your home\")\n",
    "\n",
    "with open(\"students.csv\",\"a\") as file:\n",
    "    writer=csv.write(file)\n",
    "    writer.writerow([name,home])\n"
   ]
  },
  {
   "cell_type": "code",
   "execution_count": null,
   "metadata": {},
   "outputs": [],
   "source": [
    "import csv \n",
    "\n",
    "name=input(\"what is your name\")\n",
    "home=input(\"what is your home\")\n",
    "\n",
    "with open(\"students.csv\",\"a\") as file:\n",
    "    writer=csv.DictWriter(file,fieldnames=[\"name\",\"home\"])\n",
    "    writer.writerow({\"name\":name,\"home\":home})\n"
   ]
  },
  {
   "cell_type": "code",
   "execution_count": 28,
   "metadata": {},
   "outputs": [],
   "source": [
    "#writing a file to dictionary \n",
    "data={\"name\":\"john\",\"age\":\"35\",\"city\":\"new york\"}\n",
    "with open(\"output.txt\",\"w\") as file:\n",
    "    for key, value in data.items():\n",
    "        file.write(f\"{key}:{value}\\n\")"
   ]
  },
  {
   "cell_type": "code",
   "execution_count": 37,
   "metadata": {},
   "outputs": [
    {
     "ename": "FileNotFoundError",
     "evalue": "[Errno 2] No such file or directory: 'input.txt'",
     "output_type": "error",
     "traceback": [
      "\u001b[1;31m---------------------------------------------------------------------------\u001b[0m",
      "\u001b[1;31mFileNotFoundError\u001b[0m                         Traceback (most recent call last)",
      "Cell \u001b[1;32mIn[37], line 5\u001b[0m\n\u001b[0;32m      1\u001b[0m \u001b[38;5;66;03m#reading from a file\u001b[39;00m\n\u001b[0;32m      3\u001b[0m data\u001b[38;5;241m=\u001b[39m{}\n\u001b[1;32m----> 5\u001b[0m \u001b[38;5;28;01mwith\u001b[39;00m \u001b[38;5;28;43mopen\u001b[39;49m\u001b[43m(\u001b[49m\u001b[38;5;124;43m\"\u001b[39;49m\u001b[38;5;124;43minput.txt\u001b[39;49m\u001b[38;5;124;43m\"\u001b[39;49m\u001b[43m,\u001b[49m\u001b[38;5;124;43m\"\u001b[39;49m\u001b[38;5;124;43mr\u001b[39;49m\u001b[38;5;124;43m\"\u001b[39;49m\u001b[43m)\u001b[49m \u001b[38;5;28;01mas\u001b[39;00m file:\n\u001b[0;32m      6\u001b[0m     \u001b[38;5;28;01mfor\u001b[39;00m line \u001b[38;5;129;01min\u001b[39;00m file:\n\u001b[0;32m      7\u001b[0m         key,value\u001b[38;5;241m=\u001b[39mline\u001b[38;5;241m.\u001b[39mstrip()\u001b[38;5;241m.\u001b[39msplit(\u001b[38;5;124m\"\u001b[39m\u001b[38;5;124m:\u001b[39m\u001b[38;5;124m\"\u001b[39m)\n",
      "File \u001b[1;32m~\\AppData\\Roaming\\Python\\Python312\\site-packages\\IPython\\core\\interactiveshell.py:310\u001b[0m, in \u001b[0;36m_modified_open\u001b[1;34m(file, *args, **kwargs)\u001b[0m\n\u001b[0;32m    303\u001b[0m \u001b[38;5;28;01mif\u001b[39;00m file \u001b[38;5;129;01min\u001b[39;00m {\u001b[38;5;241m0\u001b[39m, \u001b[38;5;241m1\u001b[39m, \u001b[38;5;241m2\u001b[39m}:\n\u001b[0;32m    304\u001b[0m     \u001b[38;5;28;01mraise\u001b[39;00m \u001b[38;5;167;01mValueError\u001b[39;00m(\n\u001b[0;32m    305\u001b[0m         \u001b[38;5;124mf\u001b[39m\u001b[38;5;124m\"\u001b[39m\u001b[38;5;124mIPython won\u001b[39m\u001b[38;5;124m'\u001b[39m\u001b[38;5;124mt let you open fd=\u001b[39m\u001b[38;5;132;01m{\u001b[39;00mfile\u001b[38;5;132;01m}\u001b[39;00m\u001b[38;5;124m by default \u001b[39m\u001b[38;5;124m\"\u001b[39m\n\u001b[0;32m    306\u001b[0m         \u001b[38;5;124m\"\u001b[39m\u001b[38;5;124mas it is likely to crash IPython. If you know what you are doing, \u001b[39m\u001b[38;5;124m\"\u001b[39m\n\u001b[0;32m    307\u001b[0m         \u001b[38;5;124m\"\u001b[39m\u001b[38;5;124myou can use builtins\u001b[39m\u001b[38;5;124m'\u001b[39m\u001b[38;5;124m open.\u001b[39m\u001b[38;5;124m\"\u001b[39m\n\u001b[0;32m    308\u001b[0m     )\n\u001b[1;32m--> 310\u001b[0m \u001b[38;5;28;01mreturn\u001b[39;00m \u001b[43mio_open\u001b[49m\u001b[43m(\u001b[49m\u001b[43mfile\u001b[49m\u001b[43m,\u001b[49m\u001b[43m \u001b[49m\u001b[38;5;241;43m*\u001b[39;49m\u001b[43margs\u001b[49m\u001b[43m,\u001b[49m\u001b[43m \u001b[49m\u001b[38;5;241;43m*\u001b[39;49m\u001b[38;5;241;43m*\u001b[39;49m\u001b[43mkwargs\u001b[49m\u001b[43m)\u001b[49m\n",
      "\u001b[1;31mFileNotFoundError\u001b[0m: [Errno 2] No such file or directory: 'input.txt'"
     ]
    }
   ],
   "source": [
    "#reading from a file\n",
    "\n",
    "data={}\n",
    "\n",
    "with open(\"input.txt\",\"r\") as file:\n",
    "    for line in file:\n",
    "        key,value=line.strip().split(\":\")\n",
    "        data[key]=value"
   ]
  },
  {
   "cell_type": "code",
   "execution_count": 40,
   "metadata": {},
   "outputs": [],
   "source": [
    "#writin a list to file\n",
    "\n",
    "data=[1,2,3,4,5]\n",
    "\n",
    "with open(\"output.txt\",\"w\") as file:\n",
    "    for item in data:\n",
    "        file.write(f\"{item}\\n\")"
   ]
  },
  {
   "cell_type": "code",
   "execution_count": 41,
   "metadata": {},
   "outputs": [
    {
     "ename": "SyntaxError",
     "evalue": "incomplete input (1448371504.py, line 6)",
     "output_type": "error",
     "traceback": [
      "\u001b[1;36m  Cell \u001b[1;32mIn[41], line 6\u001b[1;36m\u001b[0m\n\u001b[1;33m    for line in file:\u001b[0m\n\u001b[1;37m                     ^\u001b[0m\n\u001b[1;31mSyntaxError\u001b[0m\u001b[1;31m:\u001b[0m incomplete input\n"
     ]
    }
   ],
   "source": [
    "#reading into list\n",
    "\n",
    "data=[]\n",
    "\n",
    "with open(\"input.txt\",\"r\") as file:\n",
    "    for line in file:\n",
    "        item=int(line.strip())\n",
    "        data.append(item)"
   ]
  },
  {
   "cell_type": "code",
   "execution_count": null,
   "metadata": {},
   "outputs": [],
   "source": [
    "#writing a list to a csv file\n",
    "\n",
    "import csv\n",
    "\n",
    "data = [[1, \"John\"], [2, \"Jane\"], [3, \"Doe\"]]\n",
    "\n",
    "with open(\"output.csv\", \"w\", newline=\"\") as file:\n",
    "    writer = csv.writer(file)\n",
    "    writer.writerows(data)\n",
    "\n",
    "\n"
   ]
  },
  {
   "cell_type": "code",
   "execution_count": null,
   "metadata": {},
   "outputs": [],
   "source": [
    "#Reading from a CSV File (for Lists):\n",
    "import csv\n",
    "\n",
    "data = []\n",
    "\n",
    "with open(\"input.csv\", \"r\") as file:\n",
    "    reader = csv.reader(file)\n",
    "    for row in reader:\n",
    "        data.append(row)\n",
    "\n"
   ]
  },
  {
   "cell_type": "code",
   "execution_count": null,
   "metadata": {},
   "outputs": [],
   "source": [
    "#Writing a List of Dictionaries to a CSV File:\n",
    "\n",
    "import csv\n",
    "\n",
    "data = [{\"Name\": \"John\", \"Age\": 25, \"City\": \"New York\"},\n",
    "        {\"Name\": \"Jane\", \"Age\": 30, \"City\": \"Los Angeles\"}]\n",
    "\n",
    "with open(\"output.csv\", \"w\", newline=\"\") as file:\n",
    "    fieldnames = data[0].keys()\n",
    "    writer = csv.DictWriter(file, fieldnames=fieldnames)\n",
    "    writer.writeheader()\n",
    "    writer.writerows(data)\n"
   ]
  },
  {
   "cell_type": "code",
   "execution_count": null,
   "metadata": {},
   "outputs": [],
   "source": [
    "#Reading into a Dictionary from a CSV File:\n",
    "\n",
    "import csv\n",
    "\n",
    "data = {}\n",
    "\n",
    "with open(\"input.csv\", \"r\") as file:\n",
    "    reader = csv.DictReader(file)\n",
    "    for row in reader:\n",
    "        data = row\n"
   ]
  },
  {
   "cell_type": "code",
   "execution_count": null,
   "metadata": {},
   "outputs": [],
   "source": [
    "import sys\n",
    "\n",
    "from PIL import Image\n",
    "\n",
    "images=[]\n",
    "\n",
    "for arg in sys.argv[1:]:#everything except 1st element \n",
    "    image=Image.open(arg)\n",
    "    images.append(image)\n",
    "    \n",
    "images[0].save(\n",
    "    \"costume.gif\",save_all=True,append_images=[images[1]],duration=200,loop=0\n",
    ")\n",
    "# do combine 2 gifs and loop the to prove that the character is running"
   ]
  },
  {
   "cell_type": "code",
   "execution_count": 1,
   "metadata": {},
   "outputs": [
    {
     "name": "stdout",
     "output_type": "stream",
     "text": [
      "valid\n"
     ]
    }
   ],
   "source": [
    "#validate\n",
    "email=input(\"what is youe emails? \").strip()\n",
    "\n",
    "if\"@\" in email and\".\" in email:\n",
    "    print(\"valid\")\n",
    "else:\n",
    "    print(\"invalid\")\n"
   ]
  },
  {
   "cell_type": "code",
   "execution_count": null,
   "metadata": {},
   "outputs": [],
   "source": [
    "email=input(\"what is youe emails? \").strip()\n",
    "\n",
    "username,domain = email.split(\"@\")\n",
    "\n",
    "if username and \".\" in domain:\n",
    "    print(\"valid\")\n",
    "else:\n",
    "    print(\"invalid\")"
   ]
  },
  {
   "cell_type": "code",
   "execution_count": null,
   "metadata": {},
   "outputs": [],
   "source": [
    "\n",
    "email=input(\"what is youe emails? \").strip()\n",
    "\n",
    "username,domain = email.split(\"@\")\n",
    "\n",
    "if username and domain.endwith(\".edu\"):\n",
    "    print(\"valid\")\n",
    "else:\n",
    "    print(\"invalid\")"
   ]
  },
  {
   "cell_type": "code",
   "execution_count": null,
   "metadata": {},
   "outputs": [],
   "source": [
    "import re\n",
    "\n",
    "email=input(\"what is youe emails? \").strip()\n",
    "\n",
    "if re.search(\"@\"in email):\n",
    "    \n",
    "    print(\"valid\")\n",
    "    \n",
    "else:\n",
    "    print(\"invalid\")\n",
    "\n",
    "\n",
    "\n"
   ]
  },
  {
   "cell_type": "code",
   "execution_count": null,
   "metadata": {},
   "outputs": [],
   "source": [
    "#re library define some patterns and use some built in functions\n",
    "\n",
    "#re.search(pattern,string,flags=0)\n",
    "\n",
    "#regular expressions"
   ]
  },
  {
   "cell_type": "code",
   "execution_count": null,
   "metadata": {},
   "outputs": [],
   "source": [
    ". any characte except a new line\n",
    "* 0 or more repetaions\n",
    "+ 1 or more repetaions\n",
    "? 0 or 1 repetations\n",
    "{m} m repetations\n",
    "{m,n} m-n repetations\n",
    "^ matches the start of the user string \n",
    "$ end of the string\n",
    "[]set of characters\n",
    "[^]complementing the set\n",
    "\\d decimal digit\n",
    "\\D not a decimal\n",
    "\\s whitespace\n",
    "\\S not a white StopAsyncIteration\n",
    "\\w word+numeric +_\n",
    "\\W not a word\n",
    "A|B either a or b\n",
    "... a group\n",
    "?:... non-capturing version\n"
   ]
  },
  {
   "cell_type": "code",
   "execution_count": 9,
   "metadata": {},
   "outputs": [
    {
     "name": "stdout",
     "output_type": "stream",
     "text": [
      "Valid\n"
     ]
    }
   ],
   "source": [
    "import re\n",
    "\n",
    "email = input(\"What is your email? \").strip()\n",
    "\n",
    "if re.search(r\"^[a-zA-Z0-9_ ]+.[^@]+@[^@].[a-zA-Z0-9_].+\\.edu$\", email):#backslash literally means that we want a dot r means raw for literal raw string\n",
    "    print(\"Valid\")\n",
    "else:\n",
    "    print(\"Invalid\")\n"
   ]
  },
  {
   "cell_type": "code",
   "execution_count": null,
   "metadata": {},
   "outputs": [],
   "source": [
    "import re\n",
    "\n",
    "email = input(\"What is your email? \").strip()\n",
    "\n",
    "if re.search(r\"..*@..*\\.\", email):\n",
    "    print(\"Valid\")\n",
    "else:\n",
    "    print(\"Invalid\")\n"
   ]
  },
  {
   "cell_type": "code",
   "execution_count": null,
   "metadata": {},
   "outputs": [],
   "source": [
    "import re\n",
    "\n",
    "email = input(\"What is your email? \").strip()\n",
    "\n",
    "if re.search(r\"^\\w+.[^@]+@[^@].[a-zA-Z0-9_].+\\.(com|edu|gov|net|org)$\", email):#we can use this | so we can justify we can either use edu aor com\n",
    "    print(\"Valid\")\n",
    "else:\n",
    "    print(\"Invalid\")\n"
   ]
  },
  {
   "cell_type": "code",
   "execution_count": null,
   "metadata": {},
   "outputs": [],
   "source": [
    "import re\n",
    "\n",
    "email = input(\"What is your email? \").strip().lower()\n",
    "\n",
    "if re.search(r\"^(\\w|\\s)+.[^@]+@[^@].[a-zA-Z0-9_].+\\.(com|edu|gov|net|org)$\", email,re.IGNORECASE):#we can use this | so we can justify we can either use edu aor com#re.ignorecase to ignore lower and upper case\n",
    "    print(\"Valid\")\n",
    "else:\n",
    "    print(\"Invalid\")\n"
   ]
  },
  {
   "cell_type": "code",
   "execution_count": null,
   "metadata": {},
   "outputs": [],
   "source": [
    "import re\n",
    "\n",
    "email = input(\"What is your email? \").strip().lower()\n",
    "\n",
    "if re.search(r\"^(\\w|\\s)+.[^@]+@[^@](\\w+\\.)?.[a-zA-Z0-9_].+\\.(com|edu|gov|net|org)$\", email,re.IGNORECASE):#we can use this | so we can justify we can either use edu aor com#re.ignorecase to ignore lower and upper case#the question mark tells that this thing is either once or not at all\n",
    "    print(\"Valid\")\n",
    "else:\n",
    "    print(\"Invalid\")\n"
   ]
  },
  {
   "cell_type": "code",
   "execution_count": null,
   "metadata": {},
   "outputs": [],
   "source": [
    "#format.py\n",
    "\n",
    "name=input(\"what is your name? \").strip()\n",
    "if \",\" in name:\n",
    "    last,first =name.split(\", ?\")\n",
    "    name=f\"{first}{last}\"\n",
    "    print(f\"hello, {name}\")\n",
    "\n"
   ]
  },
  {
   "cell_type": "code",
   "execution_count": 10,
   "metadata": {},
   "outputs": [
    {
     "name": "stdout",
     "output_type": "stream",
     "text": [
      "hello,lkulkarni,parima\n"
     ]
    },
    {
     "ename": "",
     "evalue": "",
     "output_type": "error",
     "traceback": [
      "\u001b[1;31mThe Kernel crashed while executing code in the the current cell or a previous cell. Please review the code in the cell(s) to identify a possible cause of the failure. Click <a href='https://aka.ms/vscodeJupyterKernelCrash'>here</a> for more info. View Jupyter <a href='command:jupyter.viewOutput'>log</a> for further details."
     ]
    }
   ],
   "source": [
    "import re\n",
    "\n",
    "name=input(\"what is your name\").strip()\n",
    "matches= re.search(r\"^(.+),*(.+)$\",name)\n",
    "\n",
    "if matches:\n",
    "    last,first=matches.groups()\n",
    "    last=matches.group(1)\n",
    "    first=matches.group(2)\n",
    "    name=matches.group(2)+\"\"+matches.group(1)\n",
    "    \n",
    "print(f\"hello,{name}\")\n"
   ]
  },
  {
   "cell_type": "code",
   "execution_count": null,
   "metadata": {},
   "outputs": [],
   "source": [
    "#twitter.py\n",
    "\n",
    "url=input(\"url:\").strip()\n",
    "\n",
    "print(url)\n",
    "\n",
    "username=url.removeprefix(\"https://twittter.com/\",\"\")\n",
    "print(f\"username: {username}\")"
   ]
  },
  {
   "cell_type": "code",
   "execution_count": 1,
   "metadata": {},
   "outputs": [
    {
     "name": "stdout",
     "output_type": "stream",
     "text": [
      "invalid\n"
     ]
    }
   ],
   "source": [
    "import re\n",
    "\n",
    "email=input(\"what is youe email id? \")\n",
    "\n",
    "if re.search(r\"^\\w.+[^@]@[^@].+[a-zA-Z0-9_ ]+\\.(edu|com|net|org|gov)$\",email,re.IGNORECASE):\n",
    "    print(\"valid\")\n",
    "else:\n",
    "    print(\"invalid\")\n",
    "\n"
   ]
  },
  {
   "cell_type": "code",
   "execution_count": 1,
   "metadata": {},
   "outputs": [
    {
     "name": "stdout",
     "output_type": "stream",
     "text": [
      "Invalid\n"
     ]
    }
   ],
   "source": [
    "import re\n",
    "\n",
    "email = input(\"What is your email? \").strip()\n",
    "\n",
    "if re.search(r\"^\\w+.[^@]+@[^@].[a-zA-Z0-9_].+\\.(com|edu|gov|net|org)$\", email):#we can use this | so we can justify we can either use edu aor com\n",
    "    print(\"Valid\")\n",
    "else:\n",
    "    print(\"Invalid\")\n"
   ]
  },
  {
   "cell_type": "code",
   "execution_count": 12,
   "metadata": {},
   "outputs": [
    {
     "name": "stdout",
     "output_type": "stream",
     "text": [
      "hello,parimalkulkarni\n"
     ]
    }
   ],
   "source": [
    "import re\n",
    "name=input(\"what is your name\").strip()\n",
    "\n",
    "if matches:=re.search(r\"^(.+), *(.+)$\",name):\n",
    "    name=matches.group(2)+\"\"+matches.group(1)\n",
    "\n",
    "print(f\"hello,{name}\")"
   ]
  },
  {
   "cell_type": "code",
   "execution_count": 4,
   "metadata": {},
   "outputs": [
    {
     "name": "stdout",
     "output_type": "stream",
     "text": [
      "Valid\n"
     ]
    }
   ],
   "source": [
    "import re\n",
    "\n",
    "email = input(\"What is your email id? \")\n",
    "\n",
    "if re.search(r\"^[a-zA-Z0-9._%+-]+@[a-zA-Z0-9.-]+\\.[a-zA-Z]{2,}$\", email):\n",
    "    print(\"Valid\")\n",
    "else:\n",
    "    print(\"Invalid\")\n"
   ]
  },
  {
   "cell_type": "code",
   "execution_count": 8,
   "metadata": {},
   "outputs": [
    {
     "name": "stdout",
     "output_type": "stream",
     "text": [
      "da\n"
     ]
    }
   ],
   "source": [
    "url=input(\"URL: \").strip()\n",
    "print(url)\n",
    "\n"
   ]
  },
  {
   "cell_type": "code",
   "execution_count": 1,
   "metadata": {},
   "outputs": [
    {
     "name": "stdout",
     "output_type": "stream",
     "text": [
      "username:parimal\n"
     ]
    }
   ],
   "source": [
    "url=input(\"URL: \").strip()\n",
    "\n",
    "username =url.replace(\"https://twitter.com/\",\"\")\n",
    "\n",
    "print(f\"username:{username}\")"
   ]
  },
  {
   "cell_type": "code",
   "execution_count": null,
   "metadata": {},
   "outputs": [],
   "source": [
    "url=input(\"URL: \").strip()\n",
    "\n",
    "username =url.removeprefix(\"https://twitter.com/\")\n",
    "\n",
    "print(f\"username:{username}\")"
   ]
  },
  {
   "cell_type": "code",
   "execution_count": 2,
   "metadata": {},
   "outputs": [
    {
     "name": "stdout",
     "output_type": "stream",
     "text": [
      "username:davidjmakea\n"
     ]
    }
   ],
   "source": [
    "import re\n",
    "\n",
    "url=input(\"URL: \").strip()\n",
    "\n",
    "#sub means substitute\n",
    "\n",
    "username = re.sub(r\"^(https|http)://twitter\\.com/\",\"\",url)\n",
    "print(f\"username:{username}\")\n",
    "\n",
    "#.dot means newline character\n"
   ]
  },
  {
   "cell_type": "code",
   "execution_count": 5,
   "metadata": {},
   "outputs": [
    {
     "name": "stdout",
     "output_type": "stream",
     "text": [
      "username:davidjmalam\n"
     ]
    }
   ],
   "source": [
    "import re\n",
    "\n",
    "url=input(\"URL: \").strip()\n",
    "\n",
    "#sub means substitute\n",
    "\n",
    "username = re.sub(r\"^(https?://)?(www\\.)?twitter\\.com/\",\"\",url)\n",
    "print(f\"username:{username}\")\n",
    "\n",
    "#.dot means newline character\n"
   ]
  },
  {
   "cell_type": "code",
   "execution_count": null,
   "metadata": {},
   "outputs": [],
   "source": [
    "import re\n",
    "\n",
    "url=input(\"url:\").strip()\n",
    "\n",
    "if matches :=re.search(r\"^https?://(www\\.)?twitter\\.com/(.+)$\",url,re.IGNORECASE):\n",
    "    print(f\"username:\",matches.group(2))\n",
    "\n",
    "\n"
   ]
  },
  {
   "cell_type": "code",
   "execution_count": 6,
   "metadata": {},
   "outputs": [],
   "source": [
    "import re\n",
    "\n",
    "url = input(\"url:\").strip()\n",
    "\n",
    "matches = re.search(r\"^https?://(www\\.)?twitter\\.(?:com|org)/(.+)$\", url, re.IGNORECASE)\n",
    "if matches:\n",
    "    print(f\"username:\", matches.group(1))\n"
   ]
  },
  {
   "cell_type": "code",
   "execution_count": 7,
   "metadata": {},
   "outputs": [
    {
     "name": "stdout",
     "output_type": "stream",
     "text": [
      "Result of re.split: ['Hello', 'World', 'How', 'are', 'you', 'doing', 'today', '12345']\n",
      "Result of re.findall: ['Hello', 'World', 'How', 'are', 'you', 'doing', 'today', '12345']\n"
     ]
    }
   ],
   "source": [
    "import re\n",
    "\n",
    "# Example string\n",
    "text = \"Hello World! How are you doing today? 12345\"\n",
    "\n",
    "# Use re.split to split the string based on non-alphanumeric characters\n",
    "split_result = re.split(r'\\W+', text)\n",
    "print(\"Result of re.split:\", split_result)\n",
    "\n",
    "# Use re.findall to find all words in the string\n",
    "findall_result = re.findall(r'\\b\\w+\\b', text)\n",
    "print(\"Result of re.findall:\", findall_result)\n"
   ]
  },
  {
   "cell_type": "code",
   "execution_count": null,
   "metadata": {},
   "outputs": [],
   "source": [
    "#object oriented programming\n",
    "\n",
    "def main():\n",
    "    name=get_name()\n",
    "    house=get_house()\n",
    "    print(f\"{name}from {house}\")\n",
    "    \n",
    "def get_name():\n",
    "    return input(\"Name: \")\n",
    "\n",
    "def get_house():\n",
    "    return input(\"House: \")\n",
    "\n",
    "if __name__==\"__main__\":\n",
    "    main()\n",
    "    \n",
    "\n"
   ]
  },
  {
   "cell_type": "code",
   "execution_count": null,
   "metadata": {},
   "outputs": [],
   "source": [
    "def main():\n",
    "    name,house=get_student()\n",
    "    print(f\"{name}from {house}\")\n",
    "    \n",
    "def get_student():\n",
    "    name=input(\"name\")\n",
    "    house=input(\"house\")\n",
    "    return name,house\n",
    "\n",
    "if __name__==\"__main__\":\n",
    "    main()"
   ]
  },
  {
   "cell_type": "code",
   "execution_count": 9,
   "metadata": {},
   "outputs": [
    {
     "name": "stdout",
     "output_type": "stream",
     "text": [
      "Padma from Ravenclaw\n"
     ]
    }
   ],
   "source": [
    "def main():\n",
    "    student = get_student()\n",
    "    if student[0] == \"Padma\":\n",
    "        student = (\"Padma\", \"Ravenclaw\")  # Corrected line\n",
    "        print(f\"{student[0]} from {student[1]}\")\n",
    "\n",
    "def get_student():\n",
    "    name = input(\"Enter name: \")  # Corrected line\n",
    "    house = input(\"Enter house: \")  # Corrected line\n",
    "    return [name, house]\n",
    "\n",
    "if __name__ == \"__main__\":\n",
    "    main()\n"
   ]
  },
  {
   "cell_type": "code",
   "execution_count": null,
   "metadata": {},
   "outputs": [],
   "source": [
    "def main():\n",
    "    student = get_student()\n",
    "    if student[0] == \"Padma\":\n",
    "        student = (\"Padma\", \"Ravenclaw\")  # Corrected line\n",
    "        print(f\"{student[0]} from {student[1]}\")\n",
    "\n",
    "def get_student():\n",
    "    student={}\n",
    "    student[\"name\"]=input(\"Name: \")\n",
    "    student[\"house\"]=input(\"House \")\n",
    "\n",
    "if __name__ == \"__main__\":\n",
    "    main()\n"
   ]
  },
  {
   "cell_type": "markdown",
   "metadata": {},
   "source": []
  },
  {
   "cell_type": "code",
   "execution_count": 11,
   "metadata": {},
   "outputs": [
    {
     "name": "stdout",
     "output_type": "stream",
     "text": [
      "p from l\n"
     ]
    }
   ],
   "source": [
    "def main():\n",
    "    student = get_student()\n",
    "    print(f\"{student['name']} from {student['house']}\")\n",
    "\n",
    "def get_student():\n",
    "    student = {}\n",
    "    student[\"name\"] = input(\"Name: \")\n",
    "    student[\"house\"] = input(\"House: \")\n",
    "    return student  # Added return statement\n",
    "\n",
    "if __name__ == \"__main__\":\n",
    "    main()\n"
   ]
  },
  {
   "cell_type": "code",
   "execution_count": 13,
   "metadata": {},
   "outputs": [
    {
     "name": "stdout",
     "output_type": "stream",
     "text": [
      "padma from \n"
     ]
    }
   ],
   "source": [
    "def main():\n",
    "    student = get_student()\n",
    "    if student[\"name\"] == \"padma\":\n",
    "        student[\"house\"] = \"ravenclaw\"  # Use the assignment operator here\n",
    "    print(f\"{student['name']} from {student['house']}\")\n",
    "\n",
    "def get_student():\n",
    "    name = input(\"name: \")\n",
    "    house = input(\"house: \")\n",
    "    return {\"name\": name, \"house\": house}\n",
    "\n",
    "if __name__ == \"__main__\":\n",
    "    main()\n"
   ]
  },
  {
   "cell_type": "code",
   "execution_count": 16,
   "metadata": {},
   "outputs": [
    {
     "name": "stdout",
     "output_type": "stream",
     "text": [
      "p from l\n"
     ]
    }
   ],
   "source": [
    "# Class blueprint for data\n",
    "class Student:\n",
    "    pass  # Placeholder, no need for any methods or attributes here for the provided code\n",
    "\n",
    "def main():\n",
    "    student = get_student()\n",
    "    print(f\"{student.name} from {student.house}\")\n",
    "\n",
    "def get_student():\n",
    "    student = Student()\n",
    "    student.name = input(\"name: \")\n",
    "    student.house = input(\"house: \")\n",
    "    return student\n",
    "\n",
    "if __name__ == \"__main__\":\n",
    "    main()\n"
   ]
  },
  {
   "cell_type": "code",
   "execution_count": 20,
   "metadata": {},
   "outputs": [
    {
     "name": "stdout",
     "output_type": "stream",
     "text": [
      "Error: Invalid house\n"
     ]
    }
   ],
   "source": [
    "# Class blueprint for data\n",
    "class Student:\n",
    "    def __init__(self, name, house, patronus):\n",
    "        if not name:\n",
    "            raise ValueError(\"Missing Name\")\n",
    "        if house not in [\"gryffindor\", \"hufflepuff\", \"ravenclaw\", \"slytherin\"]:\n",
    "            raise ValueError(\"Invalid house\")\n",
    "        self.name = name\n",
    "        self.house = house\n",
    "        self.patronus = patronus\n",
    "\n",
    "    def __str__(self):\n",
    "        return f\"{self.name} from {self.house} with {self.patronus} as Patronus\"\n",
    "\n",
    "    def charm(self):\n",
    "        match self.patronus:\n",
    "            case \"Stag\":\n",
    "                return \"j\"\n",
    "            case \"otter\":\n",
    "                return \"m\"\n",
    "            case \"jack russell terrier\":\n",
    "                return \"f\"\n",
    "            case _:\n",
    "                return \"l\"\n",
    "\n",
    "\n",
    "def main():\n",
    "    try:\n",
    "        student = get_student()\n",
    "        print(student)\n",
    "    except ValueError as e:\n",
    "        print(f\"Error: {e}\")\n",
    "\n",
    "\n",
    "def get_student():\n",
    "    name = input(\"Enter name: \")\n",
    "    house = input(\"Enter house: \")\n",
    "    patronus = input(\"Enter Patronus: \")\n",
    "    student = Student(name, house, patronus)  # constructor\n",
    "    return student\n",
    "\n",
    "\n",
    "if __name__ == \"__main__\":\n",
    "    main()\n"
   ]
  },
  {
   "cell_type": "code",
   "execution_count": null,
   "metadata": {},
   "outputs": [],
   "source": [
    "# Class blueprint for data\n",
    "class Student:\n",
    "    def __init__(self, name, house, patronus):\n",
    "        if not name:\n",
    "            raise ValueError(\"Missing Name\")\n",
    "        if house not in [\"gryffindor\", \"hufflepuff\", \"ravenclaw\", \"slytherin\"]:\n",
    "            raise ValueError(\"Invalid house\")\n",
    "        self.name = name\n",
    "        self.house = house\n",
    "        self.patronus = patronus\n",
    "\n",
    "    def __str__(self):\n",
    "        return f\"{self.name} from {self.house} with {self.patronus} as Patronus\"\n",
    "\n",
    "    def charm(self):\n",
    "        match self.patronus:\n",
    "            case \"Stag\":\n",
    "                return \"j\"\n",
    "            case \"otter\":\n",
    "                return \"m\"\n",
    "            case \"jack russell terrier\":\n",
    "                return \"f\"\n",
    "            case _:\n",
    "                return \"l\"\n",
    "\n",
    "\n",
    "def main():\n",
    "    try:\n",
    "        student = get_student()\n",
    "        print(student.charm())\n",
    "    except ValueError as e:\n",
    "        print(f\"Error: {e}\")\n",
    "\n",
    "\n",
    "def get_student():\n",
    "    name = input(\"Enter name: \")\n",
    "    house = input(\"Enter house: \")\n",
    "    patronus = input(\"Enter Patronus: \")\n",
    "    student = Student(name, house, patronus)  # constructor\n",
    "    return student\n",
    "\n",
    "\n",
    "if __name__ == \"__main__\":\n",
    "    main()\n"
   ]
  },
  {
   "cell_type": "code",
   "execution_count": null,
   "metadata": {},
   "outputs": [],
   "source": [
    "class Car:\n",
    "    def __init__(self, brand, model):\n",
    "        self.brand = brand\n",
    "        self.model = model\n",
    "\n",
    "    def display_info(self):\n",
    "        print(f\"{self.brand} {self.model}\")\n",
    "\n",
    "# Creating objects\n",
    "car1 = Car(\"Toyota\", \"Camry\")\n",
    "car2 = Car(\"Honda\", \"Accord\")\n",
    "\n",
    "# Accessing attributes\n",
    "print(car1.brand)  # Output: Toyota\n",
    "\n",
    "# Calling methods\n",
    "car2.display_info()  # Output: Honda Accord\n"
   ]
  },
  {
   "cell_type": "code",
   "execution_count": 1,
   "metadata": {},
   "outputs": [
    {
     "name": "stdout",
     "output_type": "stream",
     "text": [
      "<class '__main__.Item'>\n",
      "<class 'str'>\n",
      "<class 'str'>\n",
      "<class 'int'>\n"
     ]
    }
   ],
   "source": [
    "#oops python\n",
    "\n",
    "class Item:\n",
    "    pass\n",
    "\n",
    "\n",
    "item1 = Item()\n",
    "\n",
    "item1.name=\"phone\"\n",
    "item1.price=\"quantity\"\n",
    "item1.quantity=5\n",
    "\n",
    "print(type(item1))\n",
    "print(type(item1.name))\n",
    "print(type(item1.price))\n",
    "print(type(item1.quantity))\n",
    "\n"
   ]
  },
  {
   "cell_type": "code",
   "execution_count": 8,
   "metadata": {},
   "outputs": [
    {
     "name": "stdout",
     "output_type": "stream",
     "text": [
      "500\n",
      "249\n",
      "AAA\n"
     ]
    }
   ],
   "source": [
    "#oops python\n",
    "\n",
    "class Item:\n",
    "    \n",
    "    def calculate_total_price(self,x,y):\n",
    "        return x*y\n",
    "\n",
    "\n",
    "item1 = Item()\n",
    "item1.name=\"phone\"\n",
    "item1.price= 100\n",
    "item1.quantity=5\n",
    "print(item1.calculate_total_price(item1.price,item1.quantity))\n",
    "\n",
    "item2 = Item()\n",
    "item2.name=\"laptop\"\n",
    "item2.price=83\n",
    "item2.quantity=3\n",
    "print(item2.calculate_total_price(item2.price,item2.quantity))\n",
    "\n",
    "random_str=\"aaa\"\n",
    "print(random_str.upper())"
   ]
  },
  {
   "cell_type": "code",
   "execution_count": 14,
   "metadata": {},
   "outputs": [
    {
     "name": "stdout",
     "output_type": "stream",
     "text": [
      "500\n",
      "249\n",
      "0.8\n"
     ]
    }
   ],
   "source": [
    "# Oops python\n",
    "class Item:\n",
    "    \n",
    "    \n",
    "    pay_rate=0.8#pay rate after 20 percent discount\n",
    "\n",
    "    def __init__(self, name: str, price: float, quantity=0):\n",
    "        \n",
    "        assert price >=0 ,f\"PRICE{price} IS NOT GREATER THA 0\"\n",
    "        assert quantity >=0 , f\"quantity{quantity} IS NOT GREATER THA 0\"\n",
    "        \n",
    "        #assign to self object\n",
    "        self.name = name\n",
    "        self.price = price\n",
    "        self.quantity = quantity\n",
    "        \n",
    "        \n",
    "    def calculate_total_price(self):\n",
    "        return self.price * self.quantity  # Fixed the typo here\n",
    "    \n",
    "    def apply_discount(self):\n",
    "        self.price=self.price*self.pay_rate        \n",
    "        \n",
    "     \n",
    "\n",
    "item1 = Item(\"phone\", 100, 5)\n",
    "item1.apply_discount()\n",
    "\n",
    "item2 = Item(\"laptop\", 83, 3)\n",
    "item2.apply_discount()\n",
    "\n",
    "\n",
    "item2.has_numpad = False\n",
    "\n",
    "print(item1.calculate_total_price())\n",
    "print(item2.calculate_total_price())\n",
    "\n",
    "print(Item. __dict__)\n",
    "print(item1. __dict__)"
   ]
  },
  {
   "cell_type": "code",
   "execution_count": null,
   "metadata": {},
   "outputs": [],
   "source": [
    "# Oops python\n",
    "class Item:\n",
    "    \n",
    "    \n",
    "    pay_rate=0.8#pay rate after 20 percent discount\n",
    "    all=[]\n",
    "\n",
    "    def __init__(self, name: str, price: float, quantity=0):\n",
    "        \n",
    "        assert price >=0 ,f\"PRICE{price} IS NOT GREATER THA 0\"\n",
    "        assert quantity >=0 , f\"quantity{quantity} IS NOT GREATER THA 0\"\n",
    "        \n",
    "        #assign to self object\n",
    "        self.name = name\n",
    "        self.price = price\n",
    "        self.quantity = quantity\n",
    "        \n",
    "        \n",
    "        #actions to eexecute\n",
    "        Item.all.append(self)\n",
    "        \n",
    "        \n",
    "        \n",
    "        \n",
    "    def calculate_total_price(self):\n",
    "        return self.price * self.quantity  # Fixed the typo here\n",
    "    \n",
    "    def apply_discount(self):\n",
    "        self.price=self.price*self.pay_rate\n",
    "        \n",
    "item1 = Item(\"Phone\", 100, 1)\n",
    "item2 = Item(\"Laptop\", 1000, 3)\n",
    "item3 = Item(\"Cable\", 10, 5)\n",
    "item4 = Item(\"Mouse\", 50, 5)\n",
    "item5 = Item(\"Keyboard\", 75, 5)\n",
    "\n",
    "\n",
    "print(Item.all)\n",
    "    "
   ]
  },
  {
   "cell_type": "code",
   "execution_count": 2,
   "metadata": {},
   "outputs": [
    {
     "name": "stdout",
     "output_type": "stream",
     "text": [
      "my name is pa and my prn is 138 and my age is 17\n",
      "i am an minor\n"
     ]
    }
   ],
   "source": [
    "class Student:\n",
    "    def __init__(self, prn, name, age):\n",
    "        if not name:\n",
    "            raise ValueError(\"missing name\")\n",
    "        \n",
    "        if prn not in [138, 108, 120, 119]:\n",
    "            raise ValueError(\"unidentified\")\n",
    "        \n",
    "        self.name = name\n",
    "        self.prn = prn\n",
    "        self.age = age\n",
    "        \n",
    "    def __str__(self):\n",
    "        return f\"my name is {self.name} and my prn is {self.prn} and my age is {self.age}\"\n",
    "        \n",
    "    def __charm__(self):\n",
    "        match self.age:\n",
    "            case 18:\n",
    "                print(\"i am an adult\")\n",
    "            case 17:\n",
    "                print(\"i am an minor\")\n",
    "            \n",
    "    \n",
    "\n",
    "    def get_student():\n",
    "        name = input(\"Enter name: \")\n",
    "        prn = int(input(\"Enter PRN: \"))\n",
    "        age = int(input(\"Enter age: \"))\n",
    "    \n",
    "        student = Student(prn, name, age)\n",
    "        return student\n",
    "    \n",
    "def main():\n",
    "    student = Student.get_student()\n",
    "    print(student)\n",
    "    student.__charm__()  # Call the __charm__ method here\n",
    "    \n",
    "if __name__ == \"__main__\":\n",
    "    main()\n"
   ]
  },
  {
   "cell_type": "code",
   "execution_count": 3,
   "metadata": {},
   "outputs": [
    {
     "ename": "ValueError",
     "evalue": "Missing Name",
     "output_type": "error",
     "traceback": [
      "\u001b[1;31m---------------------------------------------------------------------------\u001b[0m",
      "\u001b[1;31mValueError\u001b[0m                                Traceback (most recent call last)",
      "Cell \u001b[1;32mIn[3], line 53\u001b[0m\n\u001b[0;32m     49\u001b[0m     \u001b[38;5;28;01mreturn\u001b[39;00m student\n\u001b[0;32m     52\u001b[0m \u001b[38;5;28;01mif\u001b[39;00m \u001b[38;5;18m__name__\u001b[39m \u001b[38;5;241m==\u001b[39m \u001b[38;5;124m\"\u001b[39m\u001b[38;5;124m__main__\u001b[39m\u001b[38;5;124m\"\u001b[39m:\n\u001b[1;32m---> 53\u001b[0m     \u001b[43mmain\u001b[49m\u001b[43m(\u001b[49m\u001b[43m)\u001b[49m\n",
      "Cell \u001b[1;32mIn[3], line 41\u001b[0m, in \u001b[0;36mmain\u001b[1;34m()\u001b[0m\n\u001b[0;32m     40\u001b[0m \u001b[38;5;28;01mdef\u001b[39;00m \u001b[38;5;21mmain\u001b[39m():\n\u001b[1;32m---> 41\u001b[0m     student \u001b[38;5;241m=\u001b[39m \u001b[43mget_student\u001b[49m\u001b[43m(\u001b[49m\u001b[43m)\u001b[49m\n\u001b[0;32m     42\u001b[0m     student\u001b[38;5;241m.\u001b[39mhouse\u001b[38;5;241m=\u001b[39m\u001b[38;5;124m\"\u001b[39m\u001b[38;5;124mmumber 4,pivet drive\u001b[39m\u001b[38;5;124m\"\u001b[39m\n",
      "Cell \u001b[1;32mIn[3], line 48\u001b[0m, in \u001b[0;36mget_student\u001b[1;34m()\u001b[0m\n\u001b[0;32m     46\u001b[0m name \u001b[38;5;241m=\u001b[39m \u001b[38;5;28minput\u001b[39m(\u001b[38;5;124m\"\u001b[39m\u001b[38;5;124mEnter name: \u001b[39m\u001b[38;5;124m\"\u001b[39m)\n\u001b[0;32m     47\u001b[0m house \u001b[38;5;241m=\u001b[39m \u001b[38;5;28minput\u001b[39m(\u001b[38;5;124m\"\u001b[39m\u001b[38;5;124mEnter house: \u001b[39m\u001b[38;5;124m\"\u001b[39m)\n\u001b[1;32m---> 48\u001b[0m student \u001b[38;5;241m=\u001b[39m \u001b[43mStudent\u001b[49m\u001b[43m(\u001b[49m\u001b[43mname\u001b[49m\u001b[43m,\u001b[49m\u001b[43m \u001b[49m\u001b[43mhouse\u001b[49m\u001b[43m)\u001b[49m  \u001b[38;5;66;03m# constructor\u001b[39;00m\n\u001b[0;32m     49\u001b[0m \u001b[38;5;28;01mreturn\u001b[39;00m student\n",
      "Cell \u001b[1;32mIn[3], line 9\u001b[0m, in \u001b[0;36mStudent.__init__\u001b[1;34m(self, name, house)\u001b[0m\n\u001b[0;32m      7\u001b[0m \u001b[38;5;28;01mdef\u001b[39;00m \u001b[38;5;21m__init__\u001b[39m(\u001b[38;5;28mself\u001b[39m, name, house):\n\u001b[0;32m      8\u001b[0m     \u001b[38;5;28;01mif\u001b[39;00m \u001b[38;5;129;01mnot\u001b[39;00m name:\n\u001b[1;32m----> 9\u001b[0m         \u001b[38;5;28;01mraise\u001b[39;00m \u001b[38;5;167;01mValueError\u001b[39;00m(\u001b[38;5;124m\"\u001b[39m\u001b[38;5;124mMissing Name\u001b[39m\u001b[38;5;124m\"\u001b[39m)\n\u001b[0;32m     10\u001b[0m     \u001b[38;5;28mself\u001b[39m\u001b[38;5;241m.\u001b[39mname \u001b[38;5;241m=\u001b[39m name\n\u001b[0;32m     11\u001b[0m     \u001b[38;5;28mself\u001b[39m\u001b[38;5;241m.\u001b[39mhouse \u001b[38;5;241m=\u001b[39m house\n",
      "\u001b[1;31mValueError\u001b[0m: Missing Name"
     ]
    }
   ],
   "source": [
    "class Student:\n",
    "    def __init__(self, name, house):\n",
    "        if not name:\n",
    "            raise ValueError(\"Missing Name\")\n",
    "        self._name = name\n",
    "        self._house = None  # Initialize _house to None to avoid AttributeError in setter\n",
    "        self.house = house  # Use the property setter to ensure validation\n",
    "\n",
    "    def __str__(self):\n",
    "        return f\"My name is {self._name} and I am in {self._house}\"\n",
    "\n",
    "    @property\n",
    "    def name(self):\n",
    "        return self._name\n",
    "\n",
    "    @name.setter\n",
    "    def name(self, name):\n",
    "        if not name:\n",
    "            raise ValueError(\"Missing name\")\n",
    "        self._name = name\n",
    "\n",
    "    @property\n",
    "    def house(self):\n",
    "        return self._house\n",
    "\n",
    "    @house.setter\n",
    "    def house(self, house):\n",
    "        valid_houses = [\"gryffindor\", \"hufflepuff\", \"ravenclaw\", \"slytherin\"]\n",
    "        if house.lower() not in valid_houses:\n",
    "            raise ValueError(\"Invalid house\")\n",
    "        self._house = house.lower()  # Store house names in lowercase for consistency\n",
    "\n",
    "\n",
    "def main():\n",
    "    student = get_student()\n",
    "    print(student)  # Use print to display the student details .- means really dont touch it\n",
    "    student._house = \"mumber 4, privet drive\"\n",
    "    print(student)\n",
    "\n",
    "\n",
    "def get_student():\n",
    "    name = input(\"Enter name: \")\n",
    "    house = input(\"Enter house: \")\n",
    "    student = Student(name, house)  # Constructor\n",
    "    return student\n",
    "\n",
    "\n",
    "if __name__ == \"__main__\":\n",
    "    main()\n"
   ]
  },
  {
   "cell_type": "code",
   "execution_count": 12,
   "metadata": {},
   "outputs": [
    {
     "name": "stdout",
     "output_type": "stream",
     "text": [
      "harry is in hufflepuff\n"
     ]
    }
   ],
   "source": [
    "#class int(x, base=10)\n",
    "#clss str(onject=\"\")\n",
    "\n",
    "#@class method is also a decorater\n",
    "\n",
    "#hat.py\n",
    "\n",
    "import random \n",
    "\n",
    "class Hat:\n",
    "    \n",
    "    def __init__(self):\n",
    "        self.houses=[\"gryffindor\",\"hufflepuff\",\"ravenclaw\",\"slytherin\"]\n",
    "    def sort(self,name):\n",
    "        print(name,\"is in\" ,random.choice(self.houses))\n",
    "        \n",
    "        \n",
    "    \n",
    "hat=Hat()\n",
    "\n",
    "hat.sort(\"harry\")"
   ]
  },
  {
   "cell_type": "code",
   "execution_count": null,
   "metadata": {},
   "outputs": [],
   "source": [
    "12:40"
   ]
  },
  {
   "cell_type": "code",
   "execution_count": 6,
   "metadata": {},
   "outputs": [
    {
     "name": "stdout",
     "output_type": "stream",
     "text": [
      "The area of the chosen shape is: 12.56\n"
     ]
    }
   ],
   "source": [
    "class Shape:\n",
    "    \n",
    "    def __init__(self, circle, rectangle, square):\n",
    "        self.circle = circle\n",
    "        self.rectangle = rectangle\n",
    "        self.square = square\n",
    "\n",
    "    def __str__(self):\n",
    "        return f\"area of circle is {self.circle}, area of rectangle is {self.rectangle}, area of square is {self.square}\"\n",
    "\n",
    "    def calculate_area_of_circle(self, radius):\n",
    "        pi = 3.14\n",
    "        return 2 * pi * radius\n",
    "\n",
    "    def calculate_area_of_rectangle(self, length, breadth):\n",
    "        return length * breadth\n",
    "\n",
    "    def calculate_area_of_square(self, side):\n",
    "        return side * side\n",
    "\n",
    "    def choose_shape(self):\n",
    "        shape_choice = input(\"Choose a shape (circle, rectangle, square): \")\n",
    "        if shape_choice.lower() == \"circle\":\n",
    "            radius = float(input(\"Enter radius: \"))\n",
    "            return self.calculate_area_of_circle(radius)\n",
    "        elif shape_choice.lower() == \"rectangle\":\n",
    "            length = float(input(\"Enter length: \"))\n",
    "            breadth = float(input(\"Enter breadth: \"))\n",
    "            return self.calculate_area_of_rectangle(length, breadth)\n",
    "        elif shape_choice.lower() == \"square\":\n",
    "            side = float(input(\"Enter side length: \"))\n",
    "            return self.calculate_area_of_square(side)\n",
    "        else:\n",
    "            print(\"Invalid shape choice.\")\n",
    "            return None\n",
    "\n",
    "    def main(self):\n",
    "        chosen_area = self.choose_shape()\n",
    "        if chosen_area is not None:\n",
    "            print(\"The area of the chosen shape is:\", chosen_area)\n",
    "\n",
    "# Call the main method\n",
    "shape = Shape(0,0,0)\n",
    "shape.main()\n"
   ]
  },
  {
   "cell_type": "code",
   "execution_count": 3,
   "metadata": {},
   "outputs": [
    {
     "name": "stdout",
     "output_type": "stream",
     "text": [
      "harry is in slytherin\n"
     ]
    }
   ],
   "source": [
    "import random\n",
    "class Hat:\n",
    "    houses=[\"gryffindor\",\"hufflepuff\",\"ravenclaw\",\"slytherin\"]\n",
    "    \n",
    "    @classmethod\n",
    "    def sort(cls,name):\n",
    "        print(name,\"is in\",random.choice(cls.houses))\n",
    "        \n",
    "Hat.sort(\"harry\")\n",
    "              \n",
    "              \n",
    "              \n",
    "              "
   ]
  },
  {
   "cell_type": "code",
   "execution_count": 2,
   "metadata": {},
   "outputs": [
    {
     "ename": "TypeError",
     "evalue": "object.__init__() takes exactly one argument (the instance to initialize)",
     "output_type": "error",
     "traceback": [
      "\u001b[1;31m---------------------------------------------------------------------------\u001b[0m",
      "\u001b[1;31mTypeError\u001b[0m                                 Traceback (most recent call last)",
      "Cell \u001b[1;32mIn[2], line 21\u001b[0m\n\u001b[0;32m     18\u001b[0m         \u001b[38;5;28msuper\u001b[39m()\u001b[38;5;241m.\u001b[39m\u001b[38;5;21m__init__\u001b[39m(name)\n\u001b[0;32m     19\u001b[0m         \u001b[38;5;28mself\u001b[39m\u001b[38;5;241m.\u001b[39msubject\u001b[38;5;241m=\u001b[39msubject\n\u001b[1;32m---> 21\u001b[0m wizard\u001b[38;5;241m=\u001b[39m\u001b[43mWizard\u001b[49m\u001b[43m(\u001b[49m\u001b[38;5;124;43m\"\u001b[39;49m\u001b[38;5;124;43malbus\u001b[39;49m\u001b[38;5;124;43m\"\u001b[39;49m\u001b[43m)\u001b[49m\n\u001b[0;32m     22\u001b[0m student\u001b[38;5;241m=\u001b[39mStudent(\u001b[38;5;124m\"\u001b[39m\u001b[38;5;124mharry\u001b[39m\u001b[38;5;124m\"\u001b[39m,\u001b[38;5;124m\"\u001b[39m\u001b[38;5;124mGryffindor\u001b[39m\u001b[38;5;124m\"\u001b[39m)\n\u001b[0;32m     23\u001b[0m professor\u001b[38;5;241m=\u001b[39mProfessor(\u001b[38;5;124m\"\u001b[39m\u001b[38;5;124mseverus\u001b[39m\u001b[38;5;124m\"\u001b[39m,\u001b[38;5;124m\"\u001b[39m\u001b[38;5;124mdefense against dark arts\u001b[39m\u001b[38;5;124m\"\u001b[39m)\n",
      "Cell \u001b[1;32mIn[2], line 4\u001b[0m, in \u001b[0;36mWizard.__init__\u001b[1;34m(self, name)\u001b[0m\n\u001b[0;32m      2\u001b[0m \u001b[38;5;28;01mdef\u001b[39;00m \u001b[38;5;21m__init__\u001b[39m(\u001b[38;5;28mself\u001b[39m,name):\n\u001b[1;32m----> 4\u001b[0m     \u001b[38;5;28;43msuper\u001b[39;49m\u001b[43m(\u001b[49m\u001b[43m)\u001b[49m\u001b[38;5;241;43m.\u001b[39;49m\u001b[38;5;21;43m__init__\u001b[39;49m\u001b[43m(\u001b[49m\u001b[43mname\u001b[49m\u001b[43m)\u001b[49m\n\u001b[0;32m      5\u001b[0m     \u001b[38;5;28;01mif\u001b[39;00m \u001b[38;5;129;01mnot\u001b[39;00m name:\n\u001b[0;32m      6\u001b[0m         \u001b[38;5;28;01mraise\u001b[39;00m \u001b[38;5;167;01mValueError\u001b[39;00m(\u001b[38;5;124m\"\u001b[39m\u001b[38;5;124mmissing name\u001b[39m\u001b[38;5;124m\"\u001b[39m)\n",
      "\u001b[1;31mTypeError\u001b[0m: object.__init__() takes exactly one argument (the instance to initialize)"
     ]
    }
   ],
   "source": [
    "class Wizard:\n",
    "    def __init__(self,name):\n",
    "        \n",
    "        super().__init__(name)\n",
    "        if not name:\n",
    "            raise ValueError(\"missing name\")\n",
    "        self.name=name\n",
    "        \n",
    "\n",
    "class Student(Wizard):\n",
    "    def __init__(self,house):\n",
    "        super().__init__(name)\n",
    "    \n",
    "        self.house=house\n",
    "        \n",
    "class Professor(Wizard):\n",
    "    def __init__(self,subject):\n",
    "        super().__init__(name)\n",
    "        self.subject=subject\n",
    "        \n",
    "wizard=Wizard(\"albus\")\n",
    "student=Student(\"harry\",\"Gryffindor\")\n",
    "professor=Professor(\"severus\",\"defense against dark arts\")\n"
   ]
  },
  {
   "cell_type": "code",
   "execution_count": 17,
   "metadata": {},
   "outputs": [
    {
     "name": "stdout",
     "output_type": "stream",
     "text": [
      "My name is d and my house is number four,privet drive\n"
     ]
    }
   ],
   "source": [
    "class Student:\n",
    "    def __init__(self, name, house):\n",
    "        self._name = name\n",
    "        self._house = house\n",
    "\n",
    "    def __str__(self):\n",
    "        return f\"My name is {self._name} and my house is {self._house}\"\n",
    "\n",
    "    # Getter\n",
    "    @property\n",
    "    def name(self):\n",
    "        return self._name\n",
    "\n",
    "    # Setter\n",
    "    @name.setter\n",
    "    def name(self, name):\n",
    "        if not name:\n",
    "            raise ValueError(\"Name is missing\")\n",
    "        self._name = name\n",
    "\n",
    "    # Getter\n",
    "    @property\n",
    "    def house(self):\n",
    "        return self._house\n",
    "\n",
    "    # Setter\n",
    "    @house.setter\n",
    "    def house(self, house):\n",
    "        if house not in [\"gd\", \"fnf\", \"fj\"]:\n",
    "            raise ValueError(\"Invalid house\")\n",
    "        self._house = house\n",
    "\n",
    "def get_student():\n",
    "    name = input(\"What is your name? \")\n",
    "    house = input(\"Where do you live? \")\n",
    "    return Student(name, house)\n",
    "\n",
    "def main():\n",
    "    student = get_student()\n",
    "    student._house=\"number four,privet drive\"\n",
    "    print(student)\n",
    "\n",
    "if __name__ == \"__main__\":\n",
    "    main()\n"
   ]
  },
  {
   "cell_type": "code",
   "execution_count": null,
   "metadata": {},
   "outputs": [],
   "source": [
    "# hat.py\n",
    "import random\n",
    "\n",
    "class Hat:\n",
    "    def __init__(self):\n",
    "        self.houses = [\"gryffindor\", \"hufflepuff\", \"ravenclaw\", \"slytherin\"]\n",
    "\n",
    "    def sort(self, name):\n",
    "        house = random.choice(self.houses)\n",
    "        print(name, \"is in\", house)\n",
    "\n",
    "hat = Hat()\n",
    "hat.sort(\"Harry\")\n"
   ]
  },
  {
   "cell_type": "code",
   "execution_count": 16,
   "metadata": {},
   "outputs": [
    {
     "name": "stdout",
     "output_type": "stream",
     "text": [
      "Harry is in hufflepuff\n"
     ]
    }
   ],
   "source": [
    "# hat.py\n",
    "import random\n",
    "\n",
    "class Hat:\n",
    "    houses = [\"gryffindor\", \"hufflepuff\", \"ravenclaw\", \"slytherin\"]\n",
    "\n",
    "    @classmethod\n",
    "    def sort(cls, name):\n",
    "        house = random.choice(cls.houses)\n",
    "        print(name, \"is in\", house)\n",
    "\n",
    "Hat.sort(\"Harry\")\n"
   ]
  },
  {
   "cell_type": "code",
   "execution_count": 19,
   "metadata": {},
   "outputs": [
    {
     "name": "stdout",
     "output_type": "stream",
     "text": [
      "o from k\n"
     ]
    }
   ],
   "source": [
    "class Student:\n",
    "    def __init__(self, name, house):\n",
    "        self.name = name\n",
    "        self.house = house\n",
    "\n",
    "    def __str__(self):\n",
    "        return f\"{self.name} from {self.house}\"\n",
    "\n",
    "    @classmethod\n",
    "    def get(cls):\n",
    "        name = input(\"Name: \")\n",
    "        house = input(\"House: \")\n",
    "        return cls(name, house)\n",
    "\n",
    "def main():\n",
    "    student = Student.get()\n",
    "    print(student)\n",
    "\n",
    "if __name__ == \"__main__\":\n",
    "    main()\n"
   ]
  },
  {
   "cell_type": "code",
   "execution_count": 25,
   "metadata": {},
   "outputs": [
    {
     "name": "stdout",
     "output_type": "stream",
     "text": [
      "Wizard: Albus\n",
      "Student: Harry, House: Gryffindor\n",
      "Professor: Severus, Subject: Defense Against the Dark Arts\n"
     ]
    }
   ],
   "source": [
    "# wizard.py\n",
    "\n",
    "class Wizard:\n",
    "    def __init__(self, name):\n",
    "        if not name:\n",
    "            raise ValueError(\"Missing name\")\n",
    "        self.name = name\n",
    "\n",
    "    def __str__(self):\n",
    "        return f\"Wizard: {self.name}\"\n",
    "\n",
    "class Student(Wizard):\n",
    "    def __init__(self, name, house):\n",
    "        super().__init__(name)\n",
    "        self.house = house\n",
    "\n",
    "    def __str__(self):\n",
    "        return f\"Student: {self.name}, House: {self.house}\"\n",
    "\n",
    "class Professor(Wizard):\n",
    "    def __init__(self, name, subject):\n",
    "        super().__init__(name)\n",
    "        self.subject = subject\n",
    "\n",
    "    def __str__(self):\n",
    "        return f\"Professor: {self.name}, Subject: {self.subject}\"\n",
    "\n",
    "def main():\n",
    "    wizard = Wizard(\"Albus\")\n",
    "    student = Student(\"Harry\", \"Gryffindor\")\n",
    "    professor = Professor(\"Severus\", \"Defense Against the Dark Arts\")\n",
    "\n",
    "    print(wizard)\n",
    "    print(student)\n",
    "    print(professor)\n",
    "\n",
    "if __name__ == \"__main__\":\n",
    "    main()\n"
   ]
  },
  {
   "cell_type": "code",
   "execution_count": 26,
   "metadata": {},
   "outputs": [
    {
     "name": "stdout",
     "output_type": "stream",
     "text": [
      "100 galleons,50,25 knuts\n",
      "25 galleons,50,100 knuts\n",
      "125 galleons,100,125 knuts\n"
     ]
    }
   ],
   "source": [
    "#vault.py\n",
    "\n",
    "class Vault:\n",
    "    def __init__(self,galleons=0,sickles=0,knuts=0):\n",
    "        \n",
    "       self.galleons=galleons\n",
    "       self.sickles=sickles\n",
    "       self.knuts=knuts\n",
    "       \n",
    "    def __str__(self):\n",
    "        return f\"{self.galleons} galleons,{self.sickles},{self.knuts} knuts\"\n",
    "potter= Vault(100,50,25)\n",
    "print(potter)\n",
    "\n",
    "weasley=Vault(25,50,100)\n",
    "print(weasley)\n",
    "\n",
    "galleons=potter.galleons+weasley.galleons\n",
    "sickles=potter.sickles+weasley.sickles\n",
    "knuts=potter.knuts+weasley.knuts\n",
    "\n",
    "total=Vault(galleons,sickles,knuts)\n",
    "print(total)\n"
   ]
  },
  {
   "cell_type": "code",
   "execution_count": 27,
   "metadata": {},
   "outputs": [
    {
     "name": "stdout",
     "output_type": "stream",
     "text": [
      "100 galleons,50,25 knuts\n",
      "25 galleons,50,100 knuts\n",
      "125 galleons,100,125 knuts\n"
     ]
    }
   ],
   "source": [
    "#operter overloading\n",
    "\n",
    "#vault.py\n",
    "\n",
    "class Vault:\n",
    "    def __init__(self,galleons=0,sickles=0,knuts=0):\n",
    "        \n",
    "       self.galleons=galleons\n",
    "       self.sickles=sickles\n",
    "       self.knuts=knuts\n",
    "       \n",
    "    def __str__(self):\n",
    "        return f\"{self.galleons} galleons,{self.sickles},{self.knuts} knuts\"\n",
    "    \n",
    "    def __add__(self,other):\n",
    "        galleons=self.galleons+other.galleons\n",
    "        sickles=self.sickles+other.sickles\n",
    "        knuts=self.knuts+other.knuts\n",
    "        return Vault(galleons,sickles,knuts)\n",
    "        \n",
    "        \n",
    "potter= Vault(100,50,25)\n",
    "print(potter)\n",
    "\n",
    "weasley=Vault(25,50,100)\n",
    "print(weasley)\n",
    "\n",
    "total=potter+weasley\n",
    "print(total)\n"
   ]
  },
  {
   "cell_type": "code",
   "execution_count": 7,
   "metadata": {},
   "outputs": [
    {
     "name": "stdout",
     "output_type": "stream",
     "text": [
      "gryffindor\n",
      "slyhterin\n"
     ]
    }
   ],
   "source": [
    "students=[\n",
    "    {\"name\":\"hermoine\",\"house\":\"gryffindor\"},\n",
    "    {\"name\":\"harry\",\"house\":\"slyhterin\"}\n",
    "]\n",
    "\n",
    "houses=[]\n",
    "\n",
    "for student in students:\n",
    "    if student[\"house\"] not in houses:\n",
    "        houses.append(student[\"house\"])\n",
    "        \n",
    "for house in sorted(houses):\n",
    "    print(house)\n",
    "    "
   ]
  },
  {
   "cell_type": "code",
   "execution_count": 8,
   "metadata": {},
   "outputs": [
    {
     "name": "stdout",
     "output_type": "stream",
     "text": [
      "gryffindor\n",
      "slyhterin\n"
     ]
    }
   ],
   "source": [
    "students=[\n",
    "    {\"name\":\"hermoine\",\"house\":\"gryffindor\"},\n",
    "    {\"name\":\"harry\",\"house\":\"slyhterin\"}\n",
    "]\n",
    "\n",
    "houses=set()\n",
    "\n",
    "for student in students:\n",
    "    if student[\"house\"] not in houses:\n",
    "        houses.add(student[\"house\"])\n",
    "        \n",
    "for house in sorted(houses):\n",
    "    print(house)\n",
    "    "
   ]
  },
  {
   "cell_type": "code",
   "execution_count": 17,
   "metadata": {},
   "outputs": [
    {
     "name": "stdout",
     "output_type": "stream",
     "text": [
      "Balance: 0\n",
      "after deposit Balance is: 100\n",
      "after deposit and after withdrawing Balance is: 50\n"
     ]
    }
   ],
   "source": [
    "# global\n",
    "\n",
    "# bank.py\n",
    "\n",
    "balance = 0\n",
    "\n",
    "def deposit(n):\n",
    "    global balance\n",
    "    balance+=n\n",
    "    \n",
    "def withdraw(n):\n",
    "    global balance\n",
    "    balance-=n\n",
    "\n",
    "def main():\n",
    "    print(\"Balance:\", balance)\n",
    "    deposit(100)\n",
    "    print(\"after deposit Balance is:\", balance)\n",
    "    withdraw(50)\n",
    "    print(\"after deposit and after withdrawing Balance is:\", balance)\n",
    "\n",
    "if __name__ == \"__main__\":\n",
    "    main() \n"
   ]
  },
  {
   "cell_type": "code",
   "execution_count": null,
   "metadata": {},
   "outputs": [],
   "source": [
    "class Circle:\n",
    "    def __init__(self, radius):\n",
    "        self._radius = radius\n",
    "\n",
    "    @property\n",
    "    def radius(self):\n",
    "        return self._radius\n",
    "\n",
    "    @property\n",
    "    def diameter(self):\n",
    "        return 2 * self._radius\n",
    "\n",
    "    @property\n",
    "    def area(self):\n",
    "        return 3.14 * self._radius ** 2\n",
    "\n",
    "# Example usage\n",
    "my_circle = Circle(radius=5)\n",
    "print(\"Radius:\", my_circle.radius)      # Accessing like an attribute\n",
    "print(\"Diameter:\", my_circle.diameter)  # Calls the diameter() method\n",
    "print(\"Area:\", my_circle.area)          # Calls the area() method\n"
   ]
  },
  {
   "cell_type": "code",
   "execution_count": 21,
   "metadata": {},
   "outputs": [
    {
     "name": "stdout",
     "output_type": "stream",
     "text": [
      "Balance: 0\n",
      "Balance: 50\n"
     ]
    }
   ],
   "source": [
    "class Account:\n",
    "    \n",
    "    def __init__(self):\n",
    "        self._balance = 0  # to indicate it is private\n",
    "    \n",
    "    @property#getter\n",
    "    def balance(self):\n",
    "        return self._balance\n",
    "    \n",
    "    def deposit(self, n):\n",
    "        self._balance += n\n",
    "        \n",
    "    def withdraw(self, n):\n",
    "        self._balance -= n\n",
    "        \n",
    "def main():\n",
    "    account = Account()\n",
    "    print(\"Balance:\", account.balance)\n",
    "    account.deposit(100)\n",
    "    account.withdraw(50)\n",
    "    print(\"Balance:\", account.balance)\n",
    "        \n",
    "if __name__ == \"__main__\":\n",
    "    main()\n"
   ]
  },
  {
   "cell_type": "code",
   "execution_count": 24,
   "metadata": {},
   "outputs": [
    {
     "name": "stdout",
     "output_type": "stream",
     "text": [
      "meow\n",
      "meow\n",
      "meow\n"
     ]
    }
   ],
   "source": [
    "#meow.py\n",
    "\n",
    "meows=3\n",
    "\n",
    "for i in range(meows):\n",
    "    print(\"meow\")"
   ]
  },
  {
   "cell_type": "code",
   "execution_count": 26,
   "metadata": {},
   "outputs": [
    {
     "name": "stdout",
     "output_type": "stream",
     "text": [
      "meow\n",
      "meow\n",
      "meow\n"
     ]
    }
   ],
   "source": [
    "class Cat:\n",
    "    meows = 3\n",
    "    \n",
    "    def meow(self):\n",
    "        for _ in range(Cat.meows):\n",
    "            print(\"meow\")\n",
    "\n",
    "# Create an instance of the Cat class\n",
    "cat = Cat()\n",
    "\n",
    "# Call the meow method\n",
    "cat.meow()\n"
   ]
  },
  {
   "cell_type": "code",
   "execution_count": 3,
   "metadata": {},
   "outputs": [
    {
     "name": "stdout",
     "output_type": "stream",
     "text": [
      "meow\n",
      "meow\n",
      "meow\n"
     ]
    }
   ],
   "source": [
    "def meow(n:int):\n",
    "    for i in range(n):\n",
    "        print(\"meow\")\n",
    "        \n",
    "        \n",
    "number = int(input(\"number: \"))\n",
    "\n",
    "meow(number)"
   ]
  },
  {
   "cell_type": "code",
   "execution_count": 7,
   "metadata": {},
   "outputs": [
    {
     "ename": "AttributeError",
     "evalue": "'function' object has no attribute 'n'",
     "output_type": "error",
     "traceback": [
      "\u001b[1;31m---------------------------------------------------------------------------\u001b[0m",
      "\u001b[1;31mAttributeError\u001b[0m                            Traceback (most recent call last)",
      "Cell \u001b[1;32mIn[7], line 7\u001b[0m\n\u001b[0;32m      4\u001b[0m parser\u001b[38;5;241m.\u001b[39madd_argument(\u001b[38;5;124m\"\u001b[39m\u001b[38;5;124m-n\u001b[39m\u001b[38;5;124m\"\u001b[39m,default\u001b[38;5;241m=\u001b[39m\u001b[38;5;241m1\u001b[39m,help\u001b[38;5;241m=\u001b[39m\u001b[38;5;124m\"\u001b[39m\u001b[38;5;124mno.of times to meow\u001b[39m\u001b[38;5;124m\"\u001b[39m,\u001b[38;5;28mtype\u001b[39m\u001b[38;5;241m=\u001b[39m\u001b[38;5;28mint\u001b[39m)\n\u001b[0;32m      5\u001b[0m args\u001b[38;5;241m=\u001b[39mparser\u001b[38;5;241m.\u001b[39mparse_args\n\u001b[1;32m----> 7\u001b[0m \u001b[38;5;28;01mfor\u001b[39;00m _ \u001b[38;5;129;01min\u001b[39;00m \u001b[38;5;28mrange\u001b[39m(\u001b[43margs\u001b[49m\u001b[38;5;241;43m.\u001b[39;49m\u001b[43mn\u001b[49m):\n\u001b[0;32m      8\u001b[0m     \u001b[38;5;28mprint\u001b[39m(\u001b[38;5;124m\"\u001b[39m\u001b[38;5;124mmeow\u001b[39m\u001b[38;5;124m\"\u001b[39m)\n",
      "\u001b[1;31mAttributeError\u001b[0m: 'function' object has no attribute 'n'"
     ]
    }
   ],
   "source": [
    "import argparse\n",
    "\n",
    "parser =argparse.ArgumentParser(description=\"meow like a cat\")\n",
    "parser.add_argument(\"-n\",default=1,help=\"no.of times to meow\",type=int)\n",
    "args=parser.parse_args\n",
    "\n",
    "for _ in range(args.n):\n",
    "    print(\"meow\")"
   ]
  },
  {
   "cell_type": "code",
   "execution_count": 13,
   "metadata": {},
   "outputs": [
    {
     "ename": "ValueError",
     "evalue": "empty separator",
     "output_type": "error",
     "traceback": [
      "\u001b[1;31m---------------------------------------------------------------------------\u001b[0m",
      "\u001b[1;31mValueError\u001b[0m                                Traceback (most recent call last)",
      "Cell \u001b[1;32mIn[13], line 1\u001b[0m\n\u001b[1;32m----> 1\u001b[0m first, _ \u001b[38;5;241m=\u001b[39m \u001b[38;5;28;43minput\u001b[39;49m\u001b[43m(\u001b[49m\u001b[38;5;124;43m\"\u001b[39;49m\u001b[38;5;124;43mWhat is your name? \u001b[39;49m\u001b[38;5;124;43m\"\u001b[39;49m\u001b[43m)\u001b[49m\u001b[38;5;241;43m.\u001b[39;49m\u001b[43msplit\u001b[49m\u001b[43m(\u001b[49m\u001b[38;5;124;43m\"\u001b[39;49m\u001b[38;5;124;43m\"\u001b[39;49m\u001b[43m)\u001b[49m\n\u001b[0;32m      2\u001b[0m \u001b[38;5;28mprint\u001b[39m(\u001b[38;5;124mf\u001b[39m\u001b[38;5;124m\"\u001b[39m\u001b[38;5;124mHello, \u001b[39m\u001b[38;5;132;01m{\u001b[39;00mfirst\u001b[38;5;132;01m}\u001b[39;00m\u001b[38;5;124m\"\u001b[39m)\n",
      "\u001b[1;31mValueError\u001b[0m: empty separator"
     ]
    }
   ],
   "source": [
    "first, _ = input(\"What is your name? \").split(\"\")\n",
    "print(f\"Hello, {first}\")\n"
   ]
  },
  {
   "cell_type": "code",
   "execution_count": 14,
   "metadata": {},
   "outputs": [
    {
     "name": "stdout",
     "output_type": "stream",
     "text": [
      "50775\n"
     ]
    }
   ],
   "source": [
    "#unpack.py\n",
    "\n",
    "def total(galleons,sickles,knuts):\n",
    "    return(galleons*17+sickles)*29+knuts\n",
    "\n",
    "print(total(100,50,25))"
   ]
  }
 ],
 "metadata": {
  "kernelspec": {
   "display_name": "Python 3",
   "language": "python",
   "name": "python3"
  },
  "language_info": {
   "codemirror_mode": {
    "name": "ipython",
    "version": 3
   },
   "file_extension": ".py",
   "mimetype": "text/x-python",
   "name": "python",
   "nbconvert_exporter": "python",
   "pygments_lexer": "ipython3",
   "version": "3.12.1"
  }
 },
 "nbformat": 4,
 "nbformat_minor": 2
}
